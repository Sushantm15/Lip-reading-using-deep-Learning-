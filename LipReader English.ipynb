{
  "cells": [
    {
      "cell_type": "markdown",
      "metadata": {
        "id": "a3573a47-3689-4668-b62f-5c8451b2b4e9"
      },
      "source": [
        "## **Dependencies and Libraries Install**"
      ],
      "id": "a3573a47-3689-4668-b62f-5c8451b2b4e9"
    },
    {
      "cell_type": "code",
      "execution_count": null,
      "metadata": {
        "colab": {
          "base_uri": "https://localhost:8080/"
        },
        "id": "02f907ea-f669-46c7-adcf-7f257e663448",
        "outputId": "2c4dd65b-7e31-40ba-e25b-9171f676ccbc"
      },
      "outputs": [
        {
          "output_type": "stream",
          "name": "stdout",
          "text": [
            "Requirement already satisfied: opencv-python in /usr/local/lib/python3.10/dist-packages (4.8.0.76)\n",
            "Requirement already satisfied: matplotlib in /usr/local/lib/python3.10/dist-packages (3.7.1)\n",
            "Requirement already satisfied: imageio in /usr/local/lib/python3.10/dist-packages (2.31.6)\n",
            "Requirement already satisfied: gdown in /usr/local/lib/python3.10/dist-packages (4.6.6)\n",
            "Requirement already satisfied: tensorflow in /usr/local/lib/python3.10/dist-packages (2.14.0)\n",
            "Requirement already satisfied: jiwer in /usr/local/lib/python3.10/dist-packages (3.0.3)\n",
            "Requirement already satisfied: numpy>=1.21.2 in /usr/local/lib/python3.10/dist-packages (from opencv-python) (1.23.5)\n",
            "Requirement already satisfied: contourpy>=1.0.1 in /usr/local/lib/python3.10/dist-packages (from matplotlib) (1.2.0)\n",
            "Requirement already satisfied: cycler>=0.10 in /usr/local/lib/python3.10/dist-packages (from matplotlib) (0.12.1)\n",
            "Requirement already satisfied: fonttools>=4.22.0 in /usr/local/lib/python3.10/dist-packages (from matplotlib) (4.44.3)\n",
            "Requirement already satisfied: kiwisolver>=1.0.1 in /usr/local/lib/python3.10/dist-packages (from matplotlib) (1.4.5)\n",
            "Requirement already satisfied: packaging>=20.0 in /usr/local/lib/python3.10/dist-packages (from matplotlib) (23.2)\n",
            "Requirement already satisfied: pillow>=6.2.0 in /usr/local/lib/python3.10/dist-packages (from matplotlib) (9.4.0)\n",
            "Requirement already satisfied: pyparsing>=2.3.1 in /usr/local/lib/python3.10/dist-packages (from matplotlib) (3.1.1)\n",
            "Requirement already satisfied: python-dateutil>=2.7 in /usr/local/lib/python3.10/dist-packages (from matplotlib) (2.8.2)\n",
            "Requirement already satisfied: filelock in /usr/local/lib/python3.10/dist-packages (from gdown) (3.13.1)\n",
            "Requirement already satisfied: requests[socks] in /usr/local/lib/python3.10/dist-packages (from gdown) (2.31.0)\n",
            "Requirement already satisfied: six in /usr/local/lib/python3.10/dist-packages (from gdown) (1.16.0)\n",
            "Requirement already satisfied: tqdm in /usr/local/lib/python3.10/dist-packages (from gdown) (4.66.1)\n",
            "Requirement already satisfied: beautifulsoup4 in /usr/local/lib/python3.10/dist-packages (from gdown) (4.11.2)\n",
            "Requirement already satisfied: absl-py>=1.0.0 in /usr/local/lib/python3.10/dist-packages (from tensorflow) (1.4.0)\n",
            "Requirement already satisfied: astunparse>=1.6.0 in /usr/local/lib/python3.10/dist-packages (from tensorflow) (1.6.3)\n",
            "Requirement already satisfied: flatbuffers>=23.5.26 in /usr/local/lib/python3.10/dist-packages (from tensorflow) (23.5.26)\n",
            "Requirement already satisfied: gast!=0.5.0,!=0.5.1,!=0.5.2,>=0.2.1 in /usr/local/lib/python3.10/dist-packages (from tensorflow) (0.5.4)\n",
            "Requirement already satisfied: google-pasta>=0.1.1 in /usr/local/lib/python3.10/dist-packages (from tensorflow) (0.2.0)\n",
            "Requirement already satisfied: h5py>=2.9.0 in /usr/local/lib/python3.10/dist-packages (from tensorflow) (3.9.0)\n",
            "Requirement already satisfied: libclang>=13.0.0 in /usr/local/lib/python3.10/dist-packages (from tensorflow) (16.0.6)\n",
            "Requirement already satisfied: ml-dtypes==0.2.0 in /usr/local/lib/python3.10/dist-packages (from tensorflow) (0.2.0)\n",
            "Requirement already satisfied: opt-einsum>=2.3.2 in /usr/local/lib/python3.10/dist-packages (from tensorflow) (3.3.0)\n",
            "Requirement already satisfied: protobuf!=4.21.0,!=4.21.1,!=4.21.2,!=4.21.3,!=4.21.4,!=4.21.5,<5.0.0dev,>=3.20.3 in /usr/local/lib/python3.10/dist-packages (from tensorflow) (3.20.3)\n",
            "Requirement already satisfied: setuptools in /usr/local/lib/python3.10/dist-packages (from tensorflow) (67.7.2)\n",
            "Requirement already satisfied: termcolor>=1.1.0 in /usr/local/lib/python3.10/dist-packages (from tensorflow) (2.3.0)\n",
            "Requirement already satisfied: typing-extensions>=3.6.6 in /usr/local/lib/python3.10/dist-packages (from tensorflow) (4.5.0)\n",
            "Requirement already satisfied: wrapt<1.15,>=1.11.0 in /usr/local/lib/python3.10/dist-packages (from tensorflow) (1.14.1)\n",
            "Requirement already satisfied: tensorflow-io-gcs-filesystem>=0.23.1 in /usr/local/lib/python3.10/dist-packages (from tensorflow) (0.34.0)\n",
            "Requirement already satisfied: grpcio<2.0,>=1.24.3 in /usr/local/lib/python3.10/dist-packages (from tensorflow) (1.59.2)\n",
            "Requirement already satisfied: tensorboard<2.15,>=2.14 in /usr/local/lib/python3.10/dist-packages (from tensorflow) (2.14.1)\n",
            "Requirement already satisfied: tensorflow-estimator<2.15,>=2.14.0 in /usr/local/lib/python3.10/dist-packages (from tensorflow) (2.14.0)\n",
            "Requirement already satisfied: keras<2.15,>=2.14.0 in /usr/local/lib/python3.10/dist-packages (from tensorflow) (2.14.0)\n",
            "Requirement already satisfied: click<9.0.0,>=8.1.3 in /usr/local/lib/python3.10/dist-packages (from jiwer) (8.1.7)\n",
            "Requirement already satisfied: rapidfuzz<4,>=3 in /usr/local/lib/python3.10/dist-packages (from jiwer) (3.5.2)\n",
            "Requirement already satisfied: wheel<1.0,>=0.23.0 in /usr/local/lib/python3.10/dist-packages (from astunparse>=1.6.0->tensorflow) (0.41.3)\n",
            "Requirement already satisfied: google-auth<3,>=1.6.3 in /usr/local/lib/python3.10/dist-packages (from tensorboard<2.15,>=2.14->tensorflow) (2.17.3)\n",
            "Requirement already satisfied: google-auth-oauthlib<1.1,>=0.5 in /usr/local/lib/python3.10/dist-packages (from tensorboard<2.15,>=2.14->tensorflow) (1.0.0)\n",
            "Requirement already satisfied: markdown>=2.6.8 in /usr/local/lib/python3.10/dist-packages (from tensorboard<2.15,>=2.14->tensorflow) (3.5.1)\n",
            "Requirement already satisfied: tensorboard-data-server<0.8.0,>=0.7.0 in /usr/local/lib/python3.10/dist-packages (from tensorboard<2.15,>=2.14->tensorflow) (0.7.2)\n",
            "Requirement already satisfied: werkzeug>=1.0.1 in /usr/local/lib/python3.10/dist-packages (from tensorboard<2.15,>=2.14->tensorflow) (3.0.1)\n",
            "Requirement already satisfied: soupsieve>1.2 in /usr/local/lib/python3.10/dist-packages (from beautifulsoup4->gdown) (2.5)\n",
            "Requirement already satisfied: charset-normalizer<4,>=2 in /usr/local/lib/python3.10/dist-packages (from requests[socks]->gdown) (3.3.2)\n",
            "Requirement already satisfied: idna<4,>=2.5 in /usr/local/lib/python3.10/dist-packages (from requests[socks]->gdown) (3.4)\n",
            "Requirement already satisfied: urllib3<3,>=1.21.1 in /usr/local/lib/python3.10/dist-packages (from requests[socks]->gdown) (2.0.7)\n",
            "Requirement already satisfied: certifi>=2017.4.17 in /usr/local/lib/python3.10/dist-packages (from requests[socks]->gdown) (2023.7.22)\n",
            "Requirement already satisfied: PySocks!=1.5.7,>=1.5.6 in /usr/local/lib/python3.10/dist-packages (from requests[socks]->gdown) (1.7.1)\n",
            "Requirement already satisfied: cachetools<6.0,>=2.0.0 in /usr/local/lib/python3.10/dist-packages (from google-auth<3,>=1.6.3->tensorboard<2.15,>=2.14->tensorflow) (5.3.2)\n",
            "Requirement already satisfied: pyasn1-modules>=0.2.1 in /usr/local/lib/python3.10/dist-packages (from google-auth<3,>=1.6.3->tensorboard<2.15,>=2.14->tensorflow) (0.3.0)\n",
            "Requirement already satisfied: rsa<5,>=3.1.4 in /usr/local/lib/python3.10/dist-packages (from google-auth<3,>=1.6.3->tensorboard<2.15,>=2.14->tensorflow) (4.9)\n",
            "Requirement already satisfied: requests-oauthlib>=0.7.0 in /usr/local/lib/python3.10/dist-packages (from google-auth-oauthlib<1.1,>=0.5->tensorboard<2.15,>=2.14->tensorflow) (1.3.1)\n",
            "Requirement already satisfied: MarkupSafe>=2.1.1 in /usr/local/lib/python3.10/dist-packages (from werkzeug>=1.0.1->tensorboard<2.15,>=2.14->tensorflow) (2.1.3)\n",
            "Requirement already satisfied: pyasn1<0.6.0,>=0.4.6 in /usr/local/lib/python3.10/dist-packages (from pyasn1-modules>=0.2.1->google-auth<3,>=1.6.3->tensorboard<2.15,>=2.14->tensorflow) (0.5.0)\n",
            "Requirement already satisfied: oauthlib>=3.0.0 in /usr/local/lib/python3.10/dist-packages (from requests-oauthlib>=0.7.0->google-auth-oauthlib<1.1,>=0.5->tensorboard<2.15,>=2.14->tensorflow) (3.2.2)\n"
          ]
        }
      ],
      "source": [
        "!pip install opencv-python matplotlib imageio gdown tensorflow jiwer"
      ],
      "id": "02f907ea-f669-46c7-adcf-7f257e663448"
    },
    {
      "cell_type": "code",
      "execution_count": null,
      "metadata": {
        "id": "b24af50c-20b8-409d-ad78-30a933fdd669"
      },
      "outputs": [],
      "source": [
        "import os\n",
        "import cv2\n",
        "import tensorflow as tf\n",
        "import numpy as np\n",
        "from typing import List\n",
        "from matplotlib import pyplot as plt\n",
        "import imageio"
      ],
      "id": "b24af50c-20b8-409d-ad78-30a933fdd669"
    },
    {
      "cell_type": "code",
      "execution_count": null,
      "metadata": {
        "colab": {
          "base_uri": "https://localhost:8080/"
        },
        "id": "1e3db0b0-e559-4ad6-91fd-e7414b7d75e6",
        "outputId": "7f446904-e51e-48da-d93b-8c5896e847d3"
      },
      "outputs": [
        {
          "output_type": "execute_result",
          "data": {
            "text/plain": [
              "[PhysicalDevice(name='/physical_device:GPU:0', device_type='GPU')]"
            ]
          },
          "metadata": {},
          "execution_count": 4
        }
      ],
      "source": [
        "tf.config.list_physical_devices('GPU')"
      ],
      "id": "1e3db0b0-e559-4ad6-91fd-e7414b7d75e6"
    },
    {
      "cell_type": "code",
      "execution_count": null,
      "metadata": {
        "id": "378d045a-3003-4f93-b7d2-a25a97774a68"
      },
      "outputs": [],
      "source": [
        "physical_devices = tf.config.list_physical_devices('GPU')\n",
        "try:\n",
        "    tf.config.experimental.set_memory_growth(physical_devices[0], True)\n",
        "except:\n",
        "    pass"
      ],
      "id": "378d045a-3003-4f93-b7d2-a25a97774a68"
    },
    {
      "cell_type": "markdown",
      "metadata": {
        "id": "7a19e88e-c7b9-45c1-ae1e-f2109329c71b"
      },
      "source": [
        "## **Load Data**"
      ],
      "id": "7a19e88e-c7b9-45c1-ae1e-f2109329c71b"
    },
    {
      "cell_type": "code",
      "execution_count": null,
      "metadata": {
        "id": "8fb99c90-e05a-437f-839d-6e772f8c1dd5"
      },
      "outputs": [],
      "source": [
        "from google.colab import drive\n",
        "import zipfile\n",
        "import os"
      ],
      "id": "8fb99c90-e05a-437f-839d-6e772f8c1dd5"
    },
    {
      "cell_type": "code",
      "execution_count": null,
      "metadata": {
        "colab": {
          "base_uri": "https://localhost:8080/"
        },
        "id": "uk1n6uVxhFXy",
        "outputId": "493e6c77-296c-4d03-b157-d57638916df5"
      },
      "outputs": [
        {
          "output_type": "stream",
          "name": "stdout",
          "text": [
            "Mounted at /content/drive\n"
          ]
        }
      ],
      "source": [
        "drive.mount('/content/drive')"
      ],
      "id": "uk1n6uVxhFXy"
    },
    {
      "cell_type": "code",
      "execution_count": null,
      "metadata": {
        "id": "0oxiRGSJh3dD"
      },
      "outputs": [],
      "source": [
        "data_path = '/content/drive/MyDrive/LipReader/data.zip'\n",
        "extract_path = '/content/'"
      ],
      "id": "0oxiRGSJh3dD"
    },
    {
      "cell_type": "code",
      "execution_count": null,
      "metadata": {
        "colab": {
          "base_uri": "https://localhost:8080/"
        },
        "id": "LxFd0xI1iDrs",
        "outputId": "bc88b5c0-3caf-4f5a-8816-afc26d742a23"
      },
      "outputs": [
        {
          "output_type": "execute_result",
          "data": {
            "text/plain": [
              "['.config', 'data', 'drive', 'sample_data']"
            ]
          },
          "metadata": {},
          "execution_count": 9
        }
      ],
      "source": [
        "# Create the destination folder if it doesn't exist\n",
        "os.makedirs(extract_path, exist_ok=True)\n",
        "\n",
        "# Extract the zip file\n",
        "with zipfile.ZipFile(data_path, 'r') as zip_ref:\n",
        "    zip_ref.extractall(extract_path)\n",
        "\n",
        "# Display the list of files after extraction\n",
        "os.listdir(extract_path)"
      ],
      "id": "LxFd0xI1iDrs"
    },
    {
      "cell_type": "markdown",
      "metadata": {
        "id": "8f_bwWRMi3PY"
      },
      "source": [
        "## **Create Vocab**"
      ],
      "id": "8f_bwWRMi3PY"
    },
    {
      "cell_type": "code",
      "execution_count": null,
      "metadata": {
        "id": "ec735e0b-ec98-4eb0-8f49-c35527d6670a"
      },
      "outputs": [],
      "source": [
        "vocab = [x for x in \"abcdefghijklmnopqrstuvwxyz'?!123456789 \"]"
      ],
      "id": "ec735e0b-ec98-4eb0-8f49-c35527d6670a"
    },
    {
      "cell_type": "code",
      "execution_count": null,
      "metadata": {
        "colab": {
          "base_uri": "https://localhost:8080/"
        },
        "id": "be04e972-d7a5-4a72-82d8-a6bdde1f3ce6",
        "outputId": "cab445b0-470b-45a7-a8d0-589771f22561"
      },
      "outputs": [
        {
          "output_type": "stream",
          "name": "stdout",
          "text": [
            "The vocabulary is: ['', 'a', 'b', 'c', 'd', 'e', 'f', 'g', 'h', 'i', 'j', 'k', 'l', 'm', 'n', 'o', 'p', 'q', 'r', 's', 't', 'u', 'v', 'w', 'x', 'y', 'z', \"'\", '?', '!', '1', '2', '3', '4', '5', '6', '7', '8', '9', ' '] (size =40)\n"
          ]
        }
      ],
      "source": [
        "char_to_num = tf.keras.layers.StringLookup(vocabulary=vocab, oov_token=\"\")\n",
        "num_to_char = tf.keras.layers.StringLookup(vocabulary=char_to_num.get_vocabulary(), oov_token=\"\", invert=True)\n",
        "\n",
        "print(\n",
        "    f\"The vocabulary is: {char_to_num.get_vocabulary()} \"\n",
        "    f\"(size ={char_to_num.vocabulary_size()})\"\n",
        ")"
      ],
      "id": "be04e972-d7a5-4a72-82d8-a6bdde1f3ce6"
    },
    {
      "cell_type": "code",
      "execution_count": null,
      "metadata": {
        "colab": {
          "base_uri": "https://localhost:8080/"
        },
        "id": "559f7420-6802-45fa-9ca0-b1ff209b461c",
        "outputId": "165ede70-7ed9-4775-a0c7-e7be57a92cf1"
      },
      "outputs": [
        {
          "output_type": "execute_result",
          "data": {
            "text/plain": [
              "['',\n",
              " 'a',\n",
              " 'b',\n",
              " 'c',\n",
              " 'd',\n",
              " 'e',\n",
              " 'f',\n",
              " 'g',\n",
              " 'h',\n",
              " 'i',\n",
              " 'j',\n",
              " 'k',\n",
              " 'l',\n",
              " 'm',\n",
              " 'n',\n",
              " 'o',\n",
              " 'p',\n",
              " 'q',\n",
              " 'r',\n",
              " 's',\n",
              " 't',\n",
              " 'u',\n",
              " 'v',\n",
              " 'w',\n",
              " 'x',\n",
              " 'y',\n",
              " 'z',\n",
              " \"'\",\n",
              " '?',\n",
              " '!',\n",
              " '1',\n",
              " '2',\n",
              " '3',\n",
              " '4',\n",
              " '5',\n",
              " '6',\n",
              " '7',\n",
              " '8',\n",
              " '9',\n",
              " ' ']"
            ]
          },
          "metadata": {},
          "execution_count": 12
        }
      ],
      "source": [
        "char_to_num.get_vocabulary()"
      ],
      "id": "559f7420-6802-45fa-9ca0-b1ff209b461c"
    },
    {
      "cell_type": "code",
      "execution_count": null,
      "metadata": {
        "colab": {
          "base_uri": "https://localhost:8080/"
        },
        "id": "797ff78b-b48f-4e14-bb62-8cd0ebf9501a",
        "outputId": "fbfae2bb-acd9-43f8-91a5-a6904115b0b5"
      },
      "outputs": [
        {
          "output_type": "execute_result",
          "data": {
            "text/plain": [
              "<tf.Tensor: shape=(5,), dtype=int64, numpy=array([ 8,  5, 12, 12, 15])>"
            ]
          },
          "metadata": {},
          "execution_count": 13
        }
      ],
      "source": [
        "char_to_num(['h','e','l','l','o'])"
      ],
      "id": "797ff78b-b48f-4e14-bb62-8cd0ebf9501a"
    },
    {
      "cell_type": "code",
      "execution_count": null,
      "metadata": {
        "colab": {
          "base_uri": "https://localhost:8080/"
        },
        "id": "8cd7f4f4-ae77-4509-a4f4-c723787ebad1",
        "outputId": "a49200f7-b50a-405e-de7e-a2256e3b7b23"
      },
      "outputs": [
        {
          "output_type": "execute_result",
          "data": {
            "text/plain": [
              "<tf.Tensor: shape=(5,), dtype=string, numpy=array([b'h', b'e', b'l', b'l', b'o'], dtype=object)>"
            ]
          },
          "metadata": {},
          "execution_count": 14
        }
      ],
      "source": [
        "num_to_char([ 8,  5, 12, 12, 15])"
      ],
      "id": "8cd7f4f4-ae77-4509-a4f4-c723787ebad1"
    },
    {
      "cell_type": "markdown",
      "metadata": {
        "id": "_2dRAujIjOi-"
      },
      "source": [
        "## **Create Data Loading Functions**"
      ],
      "id": "_2dRAujIjOi-"
    },
    {
      "cell_type": "code",
      "execution_count": null,
      "metadata": {
        "id": "8548cc59-6dfc-4acc-abc3-3e65212db02e"
      },
      "outputs": [],
      "source": [
        "def load_video(path:str) -> List[float]:\n",
        "\n",
        "    cap = cv2.VideoCapture(path)\n",
        "    frames = []\n",
        "    for _ in range(int(cap.get(cv2.CAP_PROP_FRAME_COUNT))):\n",
        "        ret, frame = cap.read()\n",
        "        frame = tf.image.rgb_to_grayscale(frame)\n",
        "        frames.append(frame[190:236,80:220,:])\n",
        "    cap.release()\n",
        "\n",
        "    mean = tf.math.reduce_mean(frames)\n",
        "    std = tf.math.reduce_std(tf.cast(frames, tf.float32))\n",
        "    return tf.cast((frames - mean), tf.float32) / std"
      ],
      "id": "8548cc59-6dfc-4acc-abc3-3e65212db02e"
    },
    {
      "cell_type": "code",
      "execution_count": null,
      "metadata": {
        "id": "9491bab5-6a3c-4f79-879a-8f9fbe73ae2e"
      },
      "outputs": [],
      "source": [
        "def load_alignments(path):\n",
        "    with open(path, 'r') as f:\n",
        "        lines = f.readlines()\n",
        "    tokens = []\n",
        "    for line in lines:\n",
        "        line = line.split()\n",
        "        if line[2] != 'sil':\n",
        "            tokens = [*tokens,' ',line[2]]\n",
        "    return char_to_num(tf.reshape(tf.strings.unicode_split(tokens, input_encoding='UTF-8'), (-1)))[1:]"
      ],
      "id": "9491bab5-6a3c-4f79-879a-8f9fbe73ae2e"
    },
    {
      "cell_type": "code",
      "execution_count": null,
      "metadata": {
        "id": "dd01ca9f-77fb-4643-a2aa-47dd82c5d66b"
      },
      "outputs": [],
      "source": [
        "def load_data(path: str):\n",
        "    path = bytes.decode(path.numpy())\n",
        "    file_name = path.split('/')[-1].split('.')[0]\n",
        "    video_path = os.path.join('data','s1',f'{file_name}.mpg')\n",
        "    alignment_path = os.path.join('data','alignments','s1',f'{file_name}.align')\n",
        "    frames = load_video(video_path)\n",
        "    alignments = load_alignments(alignment_path)\n",
        "\n",
        "    return frames, alignments"
      ],
      "id": "dd01ca9f-77fb-4643-a2aa-47dd82c5d66b"
    },
    {
      "cell_type": "code",
      "execution_count": null,
      "metadata": {
        "id": "6871031a-b0ba-4c76-a852-f6329b0f2606"
      },
      "outputs": [],
      "source": [
        "def mappable_function(path:str) ->List[str]:\n",
        "    result = tf.py_function(load_data, [path], (tf.float32, tf.int64))\n",
        "    return result"
      ],
      "id": "6871031a-b0ba-4c76-a852-f6329b0f2606"
    },
    {
      "cell_type": "markdown",
      "metadata": {
        "id": "gtwW7w6ikdGH"
      },
      "source": [
        "## **Test Data Loading**"
      ],
      "id": "gtwW7w6ikdGH"
    },
    {
      "cell_type": "code",
      "execution_count": null,
      "metadata": {
        "id": "8cb7cc58-31ae-4904-a805-1177a82717d2"
      },
      "outputs": [],
      "source": [
        "test_path = '/content/data/s1/bbaf3s.mpg'"
      ],
      "id": "8cb7cc58-31ae-4904-a805-1177a82717d2"
    },
    {
      "cell_type": "code",
      "execution_count": null,
      "metadata": {
        "colab": {
          "base_uri": "https://localhost:8080/",
          "height": 35
        },
        "id": "76aa964f-0c84-490d-897a-d00e3966e2c9",
        "outputId": "801a56cf-6a58-4735-b69d-420799765991"
      },
      "outputs": [
        {
          "output_type": "execute_result",
          "data": {
            "text/plain": [
              "'bbaf3s'"
            ],
            "application/vnd.google.colaboratory.intrinsic+json": {
              "type": "string"
            }
          },
          "metadata": {},
          "execution_count": 20
        }
      ],
      "source": [
        "tf.convert_to_tensor(test_path).numpy().decode('utf-8').split('/')[-1].split('.')[0]"
      ],
      "id": "76aa964f-0c84-490d-897a-d00e3966e2c9"
    },
    {
      "cell_type": "code",
      "execution_count": null,
      "metadata": {
        "id": "eb602c71-8560-4f9e-b26b-08202febb937",
        "scrolled": true
      },
      "outputs": [],
      "source": [
        "frames, alignments = load_data(tf.convert_to_tensor(test_path))"
      ],
      "id": "eb602c71-8560-4f9e-b26b-08202febb937"
    },
    {
      "cell_type": "code",
      "execution_count": null,
      "metadata": {
        "colab": {
          "base_uri": "https://localhost:8080/",
          "height": 245
        },
        "id": "0e3184a1-6b02-4b4f-84a8-a0a65f951ea2",
        "outputId": "75e29646-7fd3-4d7c-ccdf-a819a58a0501"
      },
      "outputs": [
        {
          "output_type": "execute_result",
          "data": {
            "text/plain": [
              "<matplotlib.image.AxesImage at 0x7be3939a8c70>"
            ]
          },
          "metadata": {},
          "execution_count": 22
        },
        {
          "output_type": "display_data",
          "data": {
            "text/plain": [
              "<Figure size 640x480 with 1 Axes>"
            ],
            "image/png": "[encoded data removed]"
          },
          "metadata": {}
        }
      ],
      "source": [
        "plt.imshow(frames[40])"
      ],
      "id": "0e3184a1-6b02-4b4f-84a8-a0a65f951ea2"
    },
    {
      "cell_type": "code",
      "execution_count": null,
      "metadata": {
        "colab": {
          "base_uri": "https://localhost:8080/"
        },
        "id": "d7ec0833-d54b-4073-84cf-92d011c60ec1",
        "outputId": "e61f4441-dbb9-4575-f382-bb318e13afa4"
      },
      "outputs": [
        {
          "output_type": "execute_result",
          "data": {
            "text/plain": [
              "<tf.Tensor: shape=(24,), dtype=int64, numpy=\n",
              "array([ 2,  9, 14, 39,  2, 12, 21,  5, 39,  1, 20, 39,  6, 39, 20,  8, 18,\n",
              "        5,  5, 39, 19, 15, 15, 14])>"
            ]
          },
          "metadata": {},
          "execution_count": 23
        }
      ],
      "source": [
        "alignments"
      ],
      "id": "d7ec0833-d54b-4073-84cf-92d011c60ec1"
    },
    {
      "cell_type": "code",
      "execution_count": null,
      "metadata": {
        "colab": {
          "base_uri": "https://localhost:8080/"
        },
        "id": "fe1ad370-b287-4b46-85a2-7c45b0bd9b10",
        "outputId": "801dfa91-f583-4252-eaa6-f40d1ef02168"
      },
      "outputs": [
        {
          "output_type": "execute_result",
          "data": {
            "text/plain": [
              "<tf.Tensor: shape=(), dtype=string, numpy=b'bin blue at f three soon'>"
            ]
          },
          "metadata": {},
          "execution_count": 24
        }
      ],
      "source": [
        "tf.strings.reduce_join([bytes.decode(x) for x in num_to_char(alignments.numpy()).numpy()])"
      ],
      "id": "fe1ad370-b287-4b46-85a2-7c45b0bd9b10"
    },
    {
      "cell_type": "markdown",
      "metadata": {
        "id": "c40a7eb4-0c3e-4eab-9291-5611cb68ce08"
      },
      "source": [
        "## **Create Data Pipeline**"
      ],
      "id": "c40a7eb4-0c3e-4eab-9291-5611cb68ce08"
    },
    {
      "cell_type": "code",
      "execution_count": null,
      "metadata": {
        "id": "7686355d-45aa-4c85-ad9c-053e6a9b4d81"
      },
      "outputs": [],
      "source": [
        "from matplotlib import pyplot as plt"
      ],
      "id": "7686355d-45aa-4c85-ad9c-053e6a9b4d81"
    },
    {
      "cell_type": "code",
      "execution_count": null,
      "metadata": {
        "id": "f066fea2-91b1-42ed-a67d-00566a1a53ff"
      },
      "outputs": [],
      "source": [
        "data = tf.data.Dataset.list_files('/content/data/s1/*.mpg')\n",
        "data = data.shuffle(500, reshuffle_each_iteration=False)\n",
        "data = data.map(mappable_function)\n",
        "data = data.padded_batch(2, padded_shapes=([75,None,None,None],[40]))\n",
        "data = data.prefetch(tf.data.AUTOTUNE)"
      ],
      "id": "f066fea2-91b1-42ed-a67d-00566a1a53ff"
    },
    {
      "cell_type": "code",
      "execution_count": null,
      "metadata": {
        "id": "2nuPi-jClNIA"
      },
      "outputs": [],
      "source": [
        "# train-test split\n",
        "train = data.take(450)\n",
        "test = data.skip(450)"
      ],
      "id": "2nuPi-jClNIA"
    },
    {
      "cell_type": "markdown",
      "metadata": {
        "id": "-ZWaLCW2nFdr"
      },
      "source": [
        "## **Testing Data Pipeline**"
      ],
      "id": "-ZWaLCW2nFdr"
    },
    {
      "cell_type": "code",
      "execution_count": null,
      "metadata": {
        "colab": {
          "base_uri": "https://localhost:8080/"
        },
        "id": "6b1365bd-7742-41d1-95d4-247021751c3a",
        "outputId": "f0875d36-4b8f-4c49-fb37-f2fd2fd917b0"
      },
      "outputs": [
        {
          "output_type": "execute_result",
          "data": {
            "text/plain": [
              "(50, 450)"
            ]
          },
          "metadata": {},
          "execution_count": 28
        }
      ],
      "source": [
        "len(test),len(train)"
      ],
      "id": "6b1365bd-7742-41d1-95d4-247021751c3a"
    },
    {
      "cell_type": "code",
      "execution_count": null,
      "metadata": {
        "id": "5281bde8-fdc8-4da1-bd55-5a7929a9e80c"
      },
      "outputs": [],
      "source": [
        "frames, alignments = data.as_numpy_iterator().next()"
      ],
      "id": "5281bde8-fdc8-4da1-bd55-5a7929a9e80c"
    },
    {
      "cell_type": "code",
      "execution_count": null,
      "metadata": {
        "colab": {
          "base_uri": "https://localhost:8080/"
        },
        "id": "cbebe683-6afd-47fd-bba4-c83b4b13bb32",
        "outputId": "a2ca3043-8d6f-426a-8b59-ade23c6ff07c"
      },
      "outputs": [
        {
          "output_type": "execute_result",
          "data": {
            "text/plain": [
              "2"
            ]
          },
          "metadata": {},
          "execution_count": 30
        }
      ],
      "source": [
        "len(frames)"
      ],
      "id": "cbebe683-6afd-47fd-bba4-c83b4b13bb32"
    },
    {
      "cell_type": "code",
      "execution_count": null,
      "metadata": {
        "id": "5cf2d676-93a9-434c-b3c7-bdcc2577b2e7"
      },
      "outputs": [],
      "source": [
        "sample = data.as_numpy_iterator()"
      ],
      "id": "5cf2d676-93a9-434c-b3c7-bdcc2577b2e7"
    },
    {
      "cell_type": "code",
      "execution_count": null,
      "metadata": {
        "colab": {
          "base_uri": "https://localhost:8080/"
        },
        "id": "efa6cd46-7079-46c0-b45b-832f339f6cb0",
        "outputId": "88067b26-49e8-42cc-fdfb-46d0bd9c1223",
        "scrolled": true
      },
      "outputs": [
        {
          "output_type": "execute_result",
          "data": {
            "text/plain": [
              "array([[[[[ 1.4237285 ],\n",
              "          [ 1.4237285 ],\n",
              "          [ 1.4644064 ],\n",
              "          ...,\n",
              "          [ 0.        ],\n",
              "          [ 0.08135591],\n",
              "          [ 0.08135591]],\n",
              "\n",
              "         [[ 1.4237285 ],\n",
              "          [ 1.4237285 ],\n",
              "          [ 1.4644064 ],\n",
              "          ...,\n",
              "          [ 0.        ],\n",
              "          [ 0.08135591],\n",
              "          [ 0.08135591]],\n",
              "\n",
              "         [[ 1.3830504 ],\n",
              "          [ 1.3830504 ],\n",
              "          [ 1.3830504 ],\n",
              "          ...,\n",
              "          [ 0.        ],\n",
              "          [ 0.        ],\n",
              "          [ 0.        ]],\n",
              "\n",
              "         ...,\n",
              "\n",
              "         [[ 0.9762709 ],\n",
              "          [ 0.9762709 ],\n",
              "          [ 0.9762709 ],\n",
              "          ...,\n",
              "          [10.169489  ],\n",
              "          [10.169489  ],\n",
              "          [10.169489  ]],\n",
              "\n",
              "         [[ 0.9762709 ],\n",
              "          [ 0.9762709 ],\n",
              "          [ 0.9762709 ],\n",
              "          ...,\n",
              "          [10.128811  ],\n",
              "          [10.128811  ],\n",
              "          [10.128811  ]],\n",
              "\n",
              "         [[ 0.9762709 ],\n",
              "          [ 0.9762709 ],\n",
              "          [ 0.9762709 ],\n",
              "          ...,\n",
              "          [10.128811  ],\n",
              "          [10.128811  ],\n",
              "          [10.128811  ]]],\n",
              "\n",
              "\n",
              "        [[[ 1.4237285 ],\n",
              "          [ 1.4237285 ],\n",
              "          [ 1.4237285 ],\n",
              "          ...,\n",
              "          [ 0.        ],\n",
              "          [ 0.        ],\n",
              "          [ 0.        ]],\n",
              "\n",
              "         [[ 1.4237285 ],\n",
              "          [ 1.4237285 ],\n",
              "          [ 1.4237285 ],\n",
              "          ...,\n",
              "          [ 0.        ],\n",
              "          [ 0.        ],\n",
              "          [ 0.        ]],\n",
              "\n",
              "         [[ 1.3830504 ],\n",
              "          [ 1.3830504 ],\n",
              "          [ 1.3830504 ],\n",
              "          ...,\n",
              "          [ 0.04067796],\n",
              "          [ 0.        ],\n",
              "          [ 0.        ]],\n",
              "\n",
              "         ...,\n",
              "\n",
              "         [[ 0.9762709 ],\n",
              "          [ 0.9762709 ],\n",
              "          [ 0.9762709 ],\n",
              "          ...,\n",
              "          [10.169489  ],\n",
              "          [10.169489  ],\n",
              "          [10.169489  ]],\n",
              "\n",
              "         [[ 0.9762709 ],\n",
              "          [ 0.9762709 ],\n",
              "          [ 0.9762709 ],\n",
              "          ...,\n",
              "          [10.128811  ],\n",
              "          [10.128811  ],\n",
              "          [10.128811  ]],\n",
              "\n",
              "         [[ 0.9762709 ],\n",
              "          [ 0.9762709 ],\n",
              "          [ 0.9762709 ],\n",
              "          ...,\n",
              "          [10.128811  ],\n",
              "          [10.128811  ],\n",
              "          [10.128811  ]]],\n",
              "\n",
              "\n",
              "        [[[ 1.4237285 ],\n",
              "          [ 1.4237285 ],\n",
              "          [ 1.4644064 ],\n",
              "          ...,\n",
              "          [ 0.04067796],\n",
              "          [ 0.        ],\n",
              "          [ 0.        ]],\n",
              "\n",
              "         [[ 1.4237285 ],\n",
              "          [ 1.4237285 ],\n",
              "          [ 1.4644064 ],\n",
              "          ...,\n",
              "          [ 0.04067796],\n",
              "          [ 0.        ],\n",
              "          [ 0.        ]],\n",
              "\n",
              "         [[ 1.4644064 ],\n",
              "          [ 1.4237285 ],\n",
              "          [ 1.4237285 ],\n",
              "          ...,\n",
              "          [ 0.        ],\n",
              "          [10.372879  ],\n",
              "          [10.372879  ]],\n",
              "\n",
              "         ...,\n",
              "\n",
              "         [[ 0.93559295],\n",
              "          [ 0.93559295],\n",
              "          [ 0.93559295],\n",
              "          ...,\n",
              "          [10.169489  ],\n",
              "          [10.169489  ],\n",
              "          [10.169489  ]],\n",
              "\n",
              "         [[ 0.93559295],\n",
              "          [ 0.93559295],\n",
              "          [ 0.93559295],\n",
              "          ...,\n",
              "          [10.128811  ],\n",
              "          [10.128811  ],\n",
              "          [10.128811  ]],\n",
              "\n",
              "         [[ 0.93559295],\n",
              "          [ 0.93559295],\n",
              "          [ 0.93559295],\n",
              "          ...,\n",
              "          [10.128811  ],\n",
              "          [10.128811  ],\n",
              "          [10.128811  ]]],\n",
              "\n",
              "\n",
              "        ...,\n",
              "\n",
              "\n",
              "        [[[ 1.4237285 ],\n",
              "          [ 1.4237285 ],\n",
              "          [ 1.4237285 ],\n",
              "          ...,\n",
              "          [ 0.        ],\n",
              "          [10.372879  ],\n",
              "          [10.372879  ]],\n",
              "\n",
              "         [[ 1.3830504 ],\n",
              "          [ 1.3830504 ],\n",
              "          [ 1.3830504 ],\n",
              "          ...,\n",
              "          [ 0.        ],\n",
              "          [10.372879  ],\n",
              "          [10.372879  ]],\n",
              "\n",
              "         [[ 1.3016946 ],\n",
              "          [ 1.3016946 ],\n",
              "          [ 1.3016946 ],\n",
              "          ...,\n",
              "          [10.372879  ],\n",
              "          [10.372879  ],\n",
              "          [10.372879  ]],\n",
              "\n",
              "         ...,\n",
              "\n",
              "         [[ 0.89491504],\n",
              "          [ 0.89491504],\n",
              "          [ 0.89491504],\n",
              "          ...,\n",
              "          [10.047455  ],\n",
              "          [10.047455  ],\n",
              "          [10.047455  ]],\n",
              "\n",
              "         [[ 0.89491504],\n",
              "          [ 0.89491504],\n",
              "          [ 0.89491504],\n",
              "          ...,\n",
              "          [10.047455  ],\n",
              "          [10.047455  ],\n",
              "          [10.047455  ]],\n",
              "\n",
              "         [[ 0.89491504],\n",
              "          [ 0.89491504],\n",
              "          [ 0.8542371 ],\n",
              "          ...,\n",
              "          [10.047455  ],\n",
              "          [10.047455  ],\n",
              "          [10.047455  ]]],\n",
              "\n",
              "\n",
              "        [[[ 1.4644064 ],\n",
              "          [ 1.4644064 ],\n",
              "          [ 1.4644064 ],\n",
              "          ...,\n",
              "          [10.332201  ],\n",
              "          [10.291523  ],\n",
              "          [10.291523  ]],\n",
              "\n",
              "         [[ 1.4237285 ],\n",
              "          [ 1.4237285 ],\n",
              "          [ 1.4237285 ],\n",
              "          ...,\n",
              "          [10.332201  ],\n",
              "          [10.291523  ],\n",
              "          [10.291523  ]],\n",
              "\n",
              "         [[ 1.3423725 ],\n",
              "          [ 1.3423725 ],\n",
              "          [ 1.3423725 ],\n",
              "          ...,\n",
              "          [10.372879  ],\n",
              "          [10.332201  ],\n",
              "          [10.332201  ]],\n",
              "\n",
              "         ...,\n",
              "\n",
              "         [[ 0.89491504],\n",
              "          [ 0.89491504],\n",
              "          [ 0.89491504],\n",
              "          ...,\n",
              "          [10.088133  ],\n",
              "          [10.088133  ],\n",
              "          [10.088133  ]],\n",
              "\n",
              "         [[ 0.89491504],\n",
              "          [ 0.89491504],\n",
              "          [ 0.89491504],\n",
              "          ...,\n",
              "          [10.088133  ],\n",
              "          [10.088133  ],\n",
              "          [10.088133  ]],\n",
              "\n",
              "         [[ 0.89491504],\n",
              "          [ 0.89491504],\n",
              "          [ 0.8542371 ],\n",
              "          ...,\n",
              "          [10.088133  ],\n",
              "          [10.088133  ],\n",
              "          [10.088133  ]]],\n",
              "\n",
              "\n",
              "        [[[ 1.4237285 ],\n",
              "          [ 1.4237285 ],\n",
              "          [ 1.3830504 ],\n",
              "          ...,\n",
              "          [10.372879  ],\n",
              "          [10.372879  ],\n",
              "          [10.372879  ]],\n",
              "\n",
              "         [[ 1.3830504 ],\n",
              "          [ 1.3830504 ],\n",
              "          [ 1.3423725 ],\n",
              "          ...,\n",
              "          [10.372879  ],\n",
              "          [10.372879  ],\n",
              "          [10.372879  ]],\n",
              "\n",
              "         [[ 1.3830504 ],\n",
              "          [ 1.3830504 ],\n",
              "          [ 1.3830504 ],\n",
              "          ...,\n",
              "          [ 0.        ],\n",
              "          [10.372879  ],\n",
              "          [10.372879  ]],\n",
              "\n",
              "         ...,\n",
              "\n",
              "         [[ 0.93559295],\n",
              "          [ 0.89491504],\n",
              "          [ 0.89491504],\n",
              "          ...,\n",
              "          [10.128811  ],\n",
              "          [10.128811  ],\n",
              "          [10.128811  ]],\n",
              "\n",
              "         [[ 0.9762709 ],\n",
              "          [ 0.93559295],\n",
              "          [ 0.93559295],\n",
              "          ...,\n",
              "          [10.088133  ],\n",
              "          [10.088133  ],\n",
              "          [10.088133  ]],\n",
              "\n",
              "         [[ 0.9762709 ],\n",
              "          [ 0.93559295],\n",
              "          [ 0.93559295],\n",
              "          ...,\n",
              "          [10.088133  ],\n",
              "          [10.088133  ],\n",
              "          [10.088133  ]]]],\n",
              "\n",
              "\n",
              "\n",
              "       [[[[ 1.4908065 ],\n",
              "          [ 1.4553111 ],\n",
              "          [ 1.4553111 ],\n",
              "          ...,\n",
              "          [ 0.39044932],\n",
              "          [ 0.39044932],\n",
              "          [ 0.39044932]],\n",
              "\n",
              "         [[ 1.4908065 ],\n",
              "          [ 1.4553111 ],\n",
              "          [ 1.4553111 ],\n",
              "          ...,\n",
              "          [ 0.39044932],\n",
              "          [ 0.39044932],\n",
              "          [ 0.39044932]],\n",
              "\n",
              "         [[ 1.3843203 ],\n",
              "          [ 1.3843203 ],\n",
              "          [ 1.3133296 ],\n",
              "          ...,\n",
              "          [ 0.3549539 ],\n",
              "          [ 0.3549539 ],\n",
              "          [ 0.3549539 ]],\n",
              "\n",
              "         ...,\n",
              "\n",
              "         [[ 0.993871  ],\n",
              "          [ 0.993871  ],\n",
              "          [ 0.993871  ],\n",
              "          ...,\n",
              "          [ 0.07099079],\n",
              "          [ 0.07099079],\n",
              "          [ 0.07099079]],\n",
              "\n",
              "         [[ 0.993871  ],\n",
              "          [ 0.993871  ],\n",
              "          [ 0.993871  ],\n",
              "          ...,\n",
              "          [ 0.07099079],\n",
              "          [ 0.07099079],\n",
              "          [ 0.07099079]],\n",
              "\n",
              "         [[ 0.993871  ],\n",
              "          [ 0.993871  ],\n",
              "          [ 0.993871  ],\n",
              "          ...,\n",
              "          [ 0.07099079],\n",
              "          [ 0.07099079],\n",
              "          [ 0.03549539]]],\n",
              "\n",
              "\n",
              "        [[[ 1.5263019 ],\n",
              "          [ 1.4908065 ],\n",
              "          [ 1.4198157 ],\n",
              "          ...,\n",
              "          [ 0.31945854],\n",
              "          [ 0.31945854],\n",
              "          [ 0.31945854]],\n",
              "\n",
              "         [[ 1.5617973 ],\n",
              "          [ 1.5263019 ],\n",
              "          [ 1.4553111 ],\n",
              "          ...,\n",
              "          [ 0.31945854],\n",
              "          [ 0.31945854],\n",
              "          [ 0.31945854]],\n",
              "\n",
              "         [[ 1.4198157 ],\n",
              "          [ 1.4198157 ],\n",
              "          [ 1.348825  ],\n",
              "          ...,\n",
              "          [ 0.24846774],\n",
              "          [ 0.24846774],\n",
              "          [ 0.24846774]],\n",
              "\n",
              "         ...,\n",
              "\n",
              "         [[ 0.993871  ],\n",
              "          [ 0.95837563],\n",
              "          [ 0.95837563],\n",
              "          ...,\n",
              "          [ 0.03549539],\n",
              "          [ 0.03549539],\n",
              "          [ 0.03549539]],\n",
              "\n",
              "         [[ 1.0293664 ],\n",
              "          [ 0.993871  ],\n",
              "          [ 0.993871  ],\n",
              "          ...,\n",
              "          [ 0.03549539],\n",
              "          [ 0.03549539],\n",
              "          [ 0.        ]],\n",
              "\n",
              "         [[ 1.0293664 ],\n",
              "          [ 0.993871  ],\n",
              "          [ 0.993871  ],\n",
              "          ...,\n",
              "          [ 0.03549539],\n",
              "          [ 0.        ],\n",
              "          [ 0.        ]]],\n",
              "\n",
              "\n",
              "        [[[ 1.5263019 ],\n",
              "          [ 1.4908065 ],\n",
              "          [ 1.4553111 ],\n",
              "          ...,\n",
              "          [ 0.3549539 ],\n",
              "          [ 0.3549539 ],\n",
              "          [ 0.3549539 ]],\n",
              "\n",
              "         [[ 1.4908065 ],\n",
              "          [ 1.4553111 ],\n",
              "          [ 1.4553111 ],\n",
              "          ...,\n",
              "          [ 0.3549539 ],\n",
              "          [ 0.3549539 ],\n",
              "          [ 0.3549539 ]],\n",
              "\n",
              "         [[ 1.348825  ],\n",
              "          [ 1.348825  ],\n",
              "          [ 1.3133296 ],\n",
              "          ...,\n",
              "          [ 0.31945854],\n",
              "          [ 0.24846774],\n",
              "          [ 0.24846774]],\n",
              "\n",
              "         ...,\n",
              "\n",
              "         [[ 1.0648618 ],\n",
              "          [ 1.0293664 ],\n",
              "          [ 0.993871  ],\n",
              "          ...,\n",
              "          [ 0.03549539],\n",
              "          [ 0.07099079],\n",
              "          [ 0.07099079]],\n",
              "\n",
              "         [[ 1.1358526 ],\n",
              "          [ 1.0648618 ],\n",
              "          [ 1.0293664 ],\n",
              "          ...,\n",
              "          [ 0.07099079],\n",
              "          [ 0.07099079],\n",
              "          [ 0.03549539]],\n",
              "\n",
              "         [[ 1.1358526 ],\n",
              "          [ 1.0648618 ],\n",
              "          [ 1.0293664 ],\n",
              "          ...,\n",
              "          [ 0.07099079],\n",
              "          [ 0.03549539],\n",
              "          [ 0.03549539]]],\n",
              "\n",
              "\n",
              "        ...,\n",
              "\n",
              "\n",
              "        [[[ 1.348825  ],\n",
              "          [ 1.4198157 ],\n",
              "          [ 1.3843203 ],\n",
              "          ...,\n",
              "          [ 0.28396314],\n",
              "          [ 0.28396314],\n",
              "          [ 0.28396314]],\n",
              "\n",
              "         [[ 1.4198157 ],\n",
              "          [ 1.4198157 ],\n",
              "          [ 1.3133296 ],\n",
              "          ...,\n",
              "          [ 0.28396314],\n",
              "          [ 0.28396314],\n",
              "          [ 0.28396314]],\n",
              "\n",
              "         [[ 1.4198157 ],\n",
              "          [ 1.348825  ],\n",
              "          [ 1.3843203 ],\n",
              "          ...,\n",
              "          [ 0.28396314],\n",
              "          [ 0.28396314],\n",
              "          [ 0.28396314]],\n",
              "\n",
              "         ...,\n",
              "\n",
              "         [[ 0.95837563],\n",
              "          [ 0.95837563],\n",
              "          [ 0.95837563],\n",
              "          ...,\n",
              "          [ 0.03549539],\n",
              "          [ 0.        ],\n",
              "          [ 0.        ]],\n",
              "\n",
              "         [[ 0.95837563],\n",
              "          [ 0.95837563],\n",
              "          [ 0.95837563],\n",
              "          ...,\n",
              "          [ 0.03549539],\n",
              "          [ 0.03549539],\n",
              "          [ 0.        ]],\n",
              "\n",
              "         [[ 0.95837563],\n",
              "          [ 0.95837563],\n",
              "          [ 0.95837563],\n",
              "          ...,\n",
              "          [ 0.03549539],\n",
              "          [ 0.        ],\n",
              "          [ 0.        ]]],\n",
              "\n",
              "\n",
              "        [[[ 1.3133296 ],\n",
              "          [ 1.2778342 ],\n",
              "          [ 1.4198157 ],\n",
              "          ...,\n",
              "          [ 0.31945854],\n",
              "          [ 0.24846774],\n",
              "          [ 0.24846774]],\n",
              "\n",
              "         [[ 1.3843203 ],\n",
              "          [ 1.3133296 ],\n",
              "          [ 1.348825  ],\n",
              "          ...,\n",
              "          [ 0.31945854],\n",
              "          [ 0.24846774],\n",
              "          [ 0.24846774]],\n",
              "\n",
              "         [[ 1.4553111 ],\n",
              "          [ 1.3843203 ],\n",
              "          [ 1.3843203 ],\n",
              "          ...,\n",
              "          [ 0.31945854],\n",
              "          [ 0.28396314],\n",
              "          [ 0.28396314]],\n",
              "\n",
              "         ...,\n",
              "\n",
              "         [[ 0.993871  ],\n",
              "          [ 0.95837563],\n",
              "          [ 0.95837563],\n",
              "          ...,\n",
              "          [ 0.07099079],\n",
              "          [ 0.03549539],\n",
              "          [ 0.        ]],\n",
              "\n",
              "         [[ 0.993871  ],\n",
              "          [ 0.95837563],\n",
              "          [ 0.95837563],\n",
              "          ...,\n",
              "          [ 0.07099079],\n",
              "          [ 0.03549539],\n",
              "          [ 0.        ]],\n",
              "\n",
              "         [[ 0.993871  ],\n",
              "          [ 0.95837563],\n",
              "          [ 0.95837563],\n",
              "          ...,\n",
              "          [ 0.03549539],\n",
              "          [ 0.        ],\n",
              "          [ 0.        ]]],\n",
              "\n",
              "\n",
              "        [[[ 1.3133296 ],\n",
              "          [ 1.4553111 ],\n",
              "          [ 1.4553111 ],\n",
              "          ...,\n",
              "          [ 0.31945854],\n",
              "          [ 0.28396314],\n",
              "          [ 0.28396314]],\n",
              "\n",
              "         [[ 1.348825  ],\n",
              "          [ 1.4553111 ],\n",
              "          [ 1.4908065 ],\n",
              "          ...,\n",
              "          [ 0.31945854],\n",
              "          [ 0.28396314],\n",
              "          [ 0.28396314]],\n",
              "\n",
              "         [[ 1.3843203 ],\n",
              "          [ 1.348825  ],\n",
              "          [ 1.348825  ],\n",
              "          ...,\n",
              "          [ 0.31945854],\n",
              "          [ 0.28396314],\n",
              "          [ 0.28396314]],\n",
              "\n",
              "         ...,\n",
              "\n",
              "         [[ 0.993871  ],\n",
              "          [ 0.95837563],\n",
              "          [ 0.95837563],\n",
              "          ...,\n",
              "          [ 0.03549539],\n",
              "          [ 9.051325  ],\n",
              "          [ 9.01583   ]],\n",
              "\n",
              "         [[ 0.993871  ],\n",
              "          [ 0.95837563],\n",
              "          [ 0.95837563],\n",
              "          ...,\n",
              "          [ 0.03549539],\n",
              "          [ 9.051325  ],\n",
              "          [ 8.980334  ]],\n",
              "\n",
              "         [[ 0.993871  ],\n",
              "          [ 0.95837563],\n",
              "          [ 0.95837563],\n",
              "          ...,\n",
              "          [ 0.        ],\n",
              "          [ 8.980334  ],\n",
              "          [ 8.980334  ]]]]], dtype=float32)"
            ]
          },
          "metadata": {},
          "execution_count": 32
        }
      ],
      "source": [
        "val = sample.next(); val[0]"
      ],
      "id": "efa6cd46-7079-46c0-b45b-832f339f6cb0"
    },
    {
      "cell_type": "code",
      "execution_count": null,
      "metadata": {
        "colab": {
          "base_uri": "https://localhost:8080/"
        },
        "id": "2sztRs2ilpb2",
        "outputId": "fd0cf28d-b2ee-4fc4-f016-ca40b52273b7"
      },
      "outputs": [
        {
          "output_type": "execute_result",
          "data": {
            "text/plain": [
              "(2, 75, 46, 140, 1)"
            ]
          },
          "metadata": {},
          "execution_count": 33
        }
      ],
      "source": [
        "val[0].shape"
      ],
      "id": "2sztRs2ilpb2"
    },
    {
      "cell_type": "code",
      "execution_count": null,
      "metadata": {
        "colab": {
          "base_uri": "https://localhost:8080/",
          "height": 245
        },
        "id": "c33a87a2-d5e0-4ec9-b174-73ebf41bf03a",
        "outputId": "14ec1cea-ca8f-4f80-aaa2-4824a6c73a7b"
      },
      "outputs": [
        {
          "output_type": "execute_result",
          "data": {
            "text/plain": [
              "<matplotlib.image.AxesImage at 0x7be34a95c190>"
            ]
          },
          "metadata": {},
          "execution_count": 34
        },
        {
          "output_type": "display_data",
          "data": {
            "text/plain": [
              "<Figure size 640x480 with 1 Axes>"
            ],
            "image/png": "[encoded data removed]"
          },
          "metadata": {}
        }
      ],
      "source": [
        "# 0:videos, 0: 1st video out of the batch,  35: return the thirty-fifth frame in the video\n",
        "plt.imshow(val[0][0][35])"
      ],
      "id": "c33a87a2-d5e0-4ec9-b174-73ebf41bf03a"
    },
    {
      "cell_type": "code",
      "execution_count": null,
      "metadata": {
        "colab": {
          "base_uri": "https://localhost:8080/"
        },
        "id": "84593332-133c-4205-b7a6-8e235d5e2b3b",
        "outputId": "ae01c4d2-6589-4b16-b54f-1762ab47aa24"
      },
      "outputs": [
        {
          "output_type": "execute_result",
          "data": {
            "text/plain": [
              "<tf.Tensor: shape=(), dtype=string, numpy=b'set red by u seven soon'>"
            ]
          },
          "metadata": {},
          "execution_count": 35
        }
      ],
      "source": [
        "# 1:alignments 0:1st video of batch\n",
        "tf.strings.reduce_join([num_to_char(word) for word in val[1][0]])"
      ],
      "id": "84593332-133c-4205-b7a6-8e235d5e2b3b"
    },
    {
      "cell_type": "markdown",
      "metadata": {
        "id": "0f47733c-83bc-465c-b118-b198b492ad37"
      },
      "source": [
        "## **Design of Deep Neural Network**"
      ],
      "id": "0f47733c-83bc-465c-b118-b198b492ad37"
    },
    {
      "cell_type": "code",
      "execution_count": null,
      "metadata": {
        "id": "d8e9a497-191b-4842-afbd-26f5e13c43ba"
      },
      "outputs": [],
      "source": [
        "from tensorflow.keras.models import Sequential\n",
        "from tensorflow.keras.layers import Conv3D, LSTM, Dense, Dropout, Bidirectional, MaxPool3D, Activation, Reshape, SpatialDropout3D, BatchNormalization, TimeDistributed, Flatten\n",
        "from tensorflow.keras.optimizers.legacy import Adam\n",
        "from tensorflow.keras.callbacks import ModelCheckpoint, LearningRateScheduler"
      ],
      "id": "d8e9a497-191b-4842-afbd-26f5e13c43ba"
    },
    {
      "cell_type": "code",
      "execution_count": null,
      "metadata": {
        "colab": {
          "base_uri": "https://localhost:8080/"
        },
        "id": "3f753ed2-70b9-4236-8c1c-08ca065dc8bf",
        "outputId": "b3c6bcd2-6245-4263-ac27-8479362c1773"
      },
      "outputs": [
        {
          "output_type": "execute_result",
          "data": {
            "text/plain": [
              "(75, 46, 140, 1)"
            ]
          },
          "metadata": {},
          "execution_count": 37
        }
      ],
      "source": [
        "data.as_numpy_iterator().next()[0][0].shape"
      ],
      "id": "3f753ed2-70b9-4236-8c1c-08ca065dc8bf"
    },
    {
      "cell_type": "code",
      "execution_count": null,
      "metadata": {
        "id": "f9171056-a352-491a-9ed9-92b28ced268e"
      },
      "outputs": [],
      "source": [
        "model = Sequential()\n",
        "model.add(Conv3D(128, 3, input_shape=(75,46,140,1), padding='same'))\n",
        "model.add(Activation('relu'))\n",
        "model.add(MaxPool3D((1,2,2)))\n",
        "\n",
        "model.add(Conv3D(256, 3, padding='same'))\n",
        "model.add(Activation('relu'))\n",
        "model.add(MaxPool3D((1,2,2)))\n",
        "\n",
        "model.add(Conv3D(75, 3, padding='same'))\n",
        "model.add(Activation('relu'))\n",
        "model.add(MaxPool3D((1,2,2)))\n",
        "\n",
        "model.add(TimeDistributed(Flatten()))\n",
        "\n",
        "model.add(Bidirectional(LSTM(128, kernel_initializer='Orthogonal', return_sequences=True)))\n",
        "model.add(Dropout(.5))\n",
        "\n",
        "model.add(Bidirectional(LSTM(128, kernel_initializer='Orthogonal', return_sequences=True)))\n",
        "model.add(Dropout(.5))\n",
        "\n",
        "model.add(Dense(char_to_num.vocabulary_size()+1, kernel_initializer='he_normal', activation='softmax'))"
      ],
      "id": "f9171056-a352-491a-9ed9-92b28ced268e"
    },
    {
      "cell_type": "code",
      "execution_count": null,
      "metadata": {
        "colab": {
          "base_uri": "https://localhost:8080/"
        },
        "id": "78851825-2bcd-42a9-b7f2-28bb5a6bf43a",
        "outputId": "3aa4e391-ec2e-4b9c-bb68-3602fd2399ad"
      },
      "outputs": [
        {
          "output_type": "stream",
          "name": "stdout",
          "text": [
            "Model: \"sequential\"\n",
            "_________________________________________________________________\n",
            " Layer (type)                Output Shape              Param #   \n",
            "=================================================================\n",
            " conv3d (Conv3D)             (None, 75, 46, 140, 128   3584      \n",
            "                             )                                   \n",
            "                                                                 \n",
            " activation (Activation)     (None, 75, 46, 140, 128   0         \n",
            "                             )                                   \n",
            "                                                                 \n",
            " max_pooling3d (MaxPooling3  (None, 75, 23, 70, 128)   0         \n",
            " D)                                                              \n",
            "                                                                 \n",
            " conv3d_1 (Conv3D)           (None, 75, 23, 70, 256)   884992    \n",
            "                                                                 \n",
            " activation_1 (Activation)   (None, 75, 23, 70, 256)   0         \n",
            "                                                                 \n",
            " max_pooling3d_1 (MaxPoolin  (None, 75, 11, 35, 256)   0         \n",
            " g3D)                                                            \n",
            "                                                                 \n",
            " conv3d_2 (Conv3D)           (None, 75, 11, 35, 75)    518475    \n",
            "                                                                 \n",
            " activation_2 (Activation)   (None, 75, 11, 35, 75)    0         \n",
            "                                                                 \n",
            " max_pooling3d_2 (MaxPoolin  (None, 75, 5, 17, 75)     0         \n",
            " g3D)                                                            \n",
            "                                                                 \n",
            " time_distributed (TimeDist  (None, 75, 6375)          0         \n",
            " ributed)                                                        \n",
            "                                                                 \n",
            " bidirectional (Bidirection  (None, 75, 256)           6660096   \n",
            " al)                                                             \n",
            "                                                                 \n",
            " dropout (Dropout)           (None, 75, 256)           0         \n",
            "                                                                 \n",
            " bidirectional_1 (Bidirecti  (None, 75, 256)           394240    \n",
            " onal)                                                           \n",
            "                                                                 \n",
            " dropout_1 (Dropout)         (None, 75, 256)           0         \n",
            "                                                                 \n",
            " dense (Dense)               (None, 75, 41)            10537     \n",
            "                                                                 \n",
            "=================================================================\n",
            "Total params: 8471924 (32.32 MB)\n",
            "Trainable params: 8471924 (32.32 MB)\n",
            "Non-trainable params: 0 (0.00 Byte)\n",
            "_________________________________________________________________\n"
          ]
        }
      ],
      "source": [
        "model.summary()"
      ],
      "id": "78851825-2bcd-42a9-b7f2-28bb5a6bf43a"
    },
    {
      "cell_type": "code",
      "execution_count": null,
      "metadata": {
        "colab": {
          "base_uri": "https://localhost:8080/"
        },
        "id": "7c37b9b9-5298-4038-9c33-5031d1b457f0",
        "outputId": "f6980170-1dfd-4cfa-975f-c8089ad809ae"
      },
      "outputs": [
        {
          "output_type": "execute_result",
          "data": {
            "text/plain": [
              "(None, 75, 46, 140, 1)"
            ]
          },
          "metadata": {},
          "execution_count": 40
        }
      ],
      "source": [
        "model.input_shape"
      ],
      "id": "7c37b9b9-5298-4038-9c33-5031d1b457f0"
    },
    {
      "cell_type": "code",
      "execution_count": null,
      "metadata": {
        "colab": {
          "base_uri": "https://localhost:8080/"
        },
        "id": "98b316a4-5322-4782-8e36-4b3c1a696d85",
        "outputId": "06f1c028-f0a6-4240-aa7b-949d0da74c83"
      },
      "outputs": [
        {
          "output_type": "execute_result",
          "data": {
            "text/plain": [
              "(None, 75, 41)"
            ]
          },
          "metadata": {},
          "execution_count": 41
        }
      ],
      "source": [
        "model.output_shape"
      ],
      "id": "98b316a4-5322-4782-8e36-4b3c1a696d85"
    },
    {
      "cell_type": "markdown",
      "metadata": {
        "id": "2ec02176-5c26-46c3-aff7-8352e6563c7d"
      },
      "source": [
        "## **Setup Training Options and Train**"
      ],
      "id": "2ec02176-5c26-46c3-aff7-8352e6563c7d"
    },
    {
      "cell_type": "code",
      "execution_count": null,
      "metadata": {
        "id": "ab015fd0-7fb4-4d5d-9fa2-30a05dbd515a"
      },
      "outputs": [],
      "source": [
        "def scheduler(epoch, lr):\n",
        "    if epoch < 30:\n",
        "        return lr\n",
        "    else:\n",
        "        return lr * tf.math.exp(-0.1)"
      ],
      "id": "ab015fd0-7fb4-4d5d-9fa2-30a05dbd515a"
    },
    {
      "cell_type": "code",
      "execution_count": null,
      "metadata": {
        "id": "c564d5c9-db54-4e88-b311-9aeab7fb3e69"
      },
      "outputs": [],
      "source": [
        "def CTCLoss(y_true, y_pred):\n",
        "    batch_len = tf.cast(tf.shape(y_true)[0], dtype=\"int64\")\n",
        "    input_length = tf.cast(tf.shape(y_pred)[1], dtype=\"int64\")\n",
        "    label_length = tf.cast(tf.shape(y_true)[1], dtype=\"int64\")\n",
        "\n",
        "    input_length = input_length * tf.ones(shape=(batch_len, 1), dtype=\"int64\")\n",
        "    label_length = label_length * tf.ones(shape=(batch_len, 1), dtype=\"int64\")\n",
        "\n",
        "    loss = tf.keras.backend.ctc_batch_cost(y_true, y_pred, input_length, label_length)\n",
        "    return loss"
      ],
      "id": "c564d5c9-db54-4e88-b311-9aeab7fb3e69"
    },
    {
      "cell_type": "code",
      "execution_count": null,
      "metadata": {
        "id": "a26dc3fc-a19c-4378-bd8c-e2b597a1d15c"
      },
      "outputs": [],
      "source": [
        "class ProduceExample(tf.keras.callbacks.Callback):\n",
        "    def __init__(self, dataset) -> None:\n",
        "        self.dataset = dataset.as_numpy_iterator()\n",
        "\n",
        "    def on_epoch_end(self, epoch, logs=None) -> None:\n",
        "        data = self.dataset.next()\n",
        "        yhat = self.model.predict(data[0])\n",
        "        decoded = tf.keras.backend.ctc_decode(yhat, [75,75], greedy=False)[0][0].numpy()\n",
        "        for x in range(len(yhat)):\n",
        "            print('Original:', tf.strings.reduce_join(num_to_char(data[1][x])).numpy().decode('utf-8'))\n",
        "            print('Prediction:', tf.strings.reduce_join(num_to_char(decoded[x])).numpy().decode('utf-8'))\n",
        "            print('~'*100)"
      ],
      "id": "a26dc3fc-a19c-4378-bd8c-e2b597a1d15c"
    },
    {
      "cell_type": "code",
      "execution_count": null,
      "metadata": {
        "id": "04be90d8-2482-46f9-b513-d5f4f8001c7e"
      },
      "outputs": [],
      "source": [
        "model.compile(optimizer=Adam(learning_rate=0.0001), loss=CTCLoss)"
      ],
      "id": "04be90d8-2482-46f9-b513-d5f4f8001c7e"
    },
    {
      "cell_type": "code",
      "execution_count": null,
      "metadata": {
        "id": "eab49367-3f1e-4464-ae76-dbd07549d97e"
      },
      "outputs": [],
      "source": [
        "checkpoint_callback = ModelCheckpoint(os.path.join('models','checkpoint'), monitor='loss', save_weights_only=True)"
      ],
      "id": "eab49367-3f1e-4464-ae76-dbd07549d97e"
    },
    {
      "cell_type": "code",
      "execution_count": null,
      "metadata": {
        "id": "e085a632-d464-46ef-8777-959cad4adb2c"
      },
      "outputs": [],
      "source": [
        "schedule_callback = LearningRateScheduler(scheduler)"
      ],
      "id": "e085a632-d464-46ef-8777-959cad4adb2c"
    },
    {
      "cell_type": "code",
      "execution_count": null,
      "metadata": {
        "id": "48eca991-90ab-4592-8a79-b50e9ca015b6"
      },
      "outputs": [],
      "source": [
        "example_callback = ProduceExample(test)"
      ],
      "id": "48eca991-90ab-4592-8a79-b50e9ca015b6"
    },
    {
      "cell_type": "code",
      "execution_count": null,
      "metadata": {
        "id": "8ffba483-aa61-4bbe-a15f-a73e1ddf097c"
      },
      "outputs": [],
      "source": [
        "#model.fit(train, validation_data=test, epochs=100, callbacks=[checkpoint_callback, schedule_callback, example_callback])"
      ],
      "id": "8ffba483-aa61-4bbe-a15f-a73e1ddf097c"
    },
    {
      "cell_type": "markdown",
      "metadata": {
        "id": "fa8ee94b-89f7-4733-8a0c-a86f86ff590a"
      },
      "source": [
        "## **Make Prediction**"
      ],
      "id": "fa8ee94b-89f7-4733-8a0c-a86f86ff590a"
    },
    {
      "cell_type": "code",
      "execution_count": null,
      "metadata": {
        "id": "7W7wcK7iqghC"
      },
      "outputs": [],
      "source": [
        "checkpoints_source = \"/content/drive/MyDrive/LipReader/model_checkpoints\"\n",
        "checkpoints_dest = \"/content\""
      ],
      "id": "7W7wcK7iqghC"
    },
    {
      "cell_type": "code",
      "execution_count": null,
      "metadata": {
        "id": "yuxS5M_GrIIe"
      },
      "outputs": [],
      "source": [
        "!cp -r \"$checkpoints_source\" \"$checkpoints_dest\""
      ],
      "id": "yuxS5M_GrIIe"
    },
    {
      "cell_type": "code",
      "execution_count": null,
      "metadata": {
        "colab": {
          "base_uri": "https://localhost:8080/"
        },
        "id": "247f664d-3c87-4e96-946e-930dad0e1c2c",
        "outputId": "18528bd0-50ef-4fda-a686-0face2c579a1"
      },
      "outputs": [
        {
          "output_type": "execute_result",
          "data": {
            "text/plain": [
              "<tensorflow.python.checkpoint.checkpoint.CheckpointLoadStatus at 0x7be338549f90>"
            ]
          },
          "metadata": {},
          "execution_count": 52
        }
      ],
      "source": [
        "model.load_weights('/content/model_checkpoints/checkpoint')"
      ],
      "id": "247f664d-3c87-4e96-946e-930dad0e1c2c"
    },
    {
      "cell_type": "code",
      "execution_count": null,
      "metadata": {
        "id": "7f8d689f-b7bb-443c-9b88-e40c1d800828"
      },
      "outputs": [],
      "source": [
        "test_data = test.as_numpy_iterator()"
      ],
      "id": "7f8d689f-b7bb-443c-9b88-e40c1d800828"
    },
    {
      "cell_type": "code",
      "execution_count": null,
      "metadata": {
        "id": "38546dc2-bee9-4837-864b-8a884df40ad7"
      },
      "outputs": [],
      "source": [
        "sample = test_data.next()"
      ],
      "id": "38546dc2-bee9-4837-864b-8a884df40ad7"
    },
    {
      "cell_type": "code",
      "execution_count": null,
      "metadata": {
        "colab": {
          "base_uri": "https://localhost:8080/"
        },
        "id": "a43621f0-229d-4c0d-9554-9c3a3da9c61a",
        "outputId": "e420875e-b05c-4af3-c2dd-bd1662222846"
      },
      "outputs": [
        {
          "output_type": "stream",
          "name": "stdout",
          "text": [
            "1/1 [==============================] - 9s 9s/step\n"
          ]
        }
      ],
      "source": [
        "yhat = model.predict(sample[0])"
      ],
      "id": "a43621f0-229d-4c0d-9554-9c3a3da9c61a"
    },
    {
      "cell_type": "code",
      "execution_count": null,
      "metadata": {
        "colab": {
          "base_uri": "https://localhost:8080/"
        },
        "id": "ea462999-f87e-4a7e-a057-5be7b6d8f7d5",
        "outputId": "41a5e584-5598-4b67-c159-e9f1407cda8e"
      },
      "outputs": [
        {
          "output_type": "stream",
          "name": "stdout",
          "text": [
            "REAL TEXT :\n"
          ]
        },
        {
          "output_type": "execute_result",
          "data": {
            "text/plain": [
              "[<tf.Tensor: shape=(), dtype=string, numpy=b'place red with q two now'>,\n",
              " <tf.Tensor: shape=(), dtype=string, numpy=b'set white by v three soon'>]"
            ]
          },
          "metadata": {},
          "execution_count": 56
        }
      ],
      "source": [
        "print(\"REAL TEXT :\")\n",
        "[tf.strings.reduce_join([num_to_char(word) for word in sentence]) for sentence in sample[1]]"
      ],
      "id": "ea462999-f87e-4a7e-a057-5be7b6d8f7d5"
    },
    {
      "cell_type": "code",
      "execution_count": null,
      "metadata": {
        "id": "82bd4c10-dd6e-411e-834b-2a3b43fd12c5"
      },
      "outputs": [],
      "source": [
        "decoded = tf.keras.backend.ctc_decode(yhat, input_length=[75,75], greedy=True)[0][0].numpy()"
      ],
      "id": "82bd4c10-dd6e-411e-834b-2a3b43fd12c5"
    },
    {
      "cell_type": "code",
      "execution_count": null,
      "metadata": {
        "colab": {
          "base_uri": "https://localhost:8080/"
        },
        "id": "5d68ac46-c90b-4eab-a709-f19aee569ff5",
        "outputId": "3b1a99fd-b65b-4b68-843c-54ece607cae1"
      },
      "outputs": [
        {
          "output_type": "stream",
          "name": "stdout",
          "text": [
            "PREDICTIONS :\n"
          ]
        },
        {
          "output_type": "execute_result",
          "data": {
            "text/plain": [
              "[<tf.Tensor: shape=(), dtype=string, numpy=b'place red with q two now'>,\n",
              " <tf.Tensor: shape=(), dtype=string, numpy=b'set white by v three soon'>]"
            ]
          },
          "metadata": {},
          "execution_count": 58
        }
      ],
      "source": [
        "print(\"PREDICTIONS :\")\n",
        "[tf.strings.reduce_join([num_to_char(word) for word in sentence]) for sentence in decoded]"
      ],
      "id": "5d68ac46-c90b-4eab-a709-f19aee569ff5"
    },
    {
      "cell_type": "markdown",
      "metadata": {
        "id": "64622f98-e99b-4fed-a2cc-f0da82eb5431"
      },
      "source": [
        "## **Test on a Video**"
      ],
      "id": "64622f98-e99b-4fed-a2cc-f0da82eb5431"
    },
    {
      "cell_type": "code",
      "execution_count": null,
      "metadata": {
        "id": "a8b0c4d0-2031-4331-b91d-d87b1ae6f6e2"
      },
      "outputs": [],
      "source": [
        "sample = load_data(tf.convert_to_tensor('/content/data/s1/bbal8p.mpg'))"
      ],
      "id": "a8b0c4d0-2031-4331-b91d-d87b1ae6f6e2"
    },
    {
      "cell_type": "code",
      "execution_count": null,
      "metadata": {
        "colab": {
          "base_uri": "https://localhost:8080/"
        },
        "id": "0cca60e4-47a9-4683-8a75-48f4684f723d",
        "outputId": "fe06e46e-8d8f-42ce-ed8f-246cde11a319"
      },
      "outputs": [
        {
          "output_type": "stream",
          "name": "stdout",
          "text": [
            "REAL TEXT :\n"
          ]
        },
        {
          "output_type": "execute_result",
          "data": {
            "text/plain": [
              "[<tf.Tensor: shape=(), dtype=string, numpy=b'bin blue at l eight please'>]"
            ]
          },
          "metadata": {},
          "execution_count": 61
        }
      ],
      "source": [
        "print(\"REAL TEXT :\")\n",
        "[tf.strings.reduce_join([num_to_char(word) for word in sentence]) for sentence in [sample[1]]]"
      ],
      "id": "0cca60e4-47a9-4683-8a75-48f4684f723d"
    },
    {
      "cell_type": "code",
      "execution_count": null,
      "metadata": {
        "colab": {
          "base_uri": "https://localhost:8080/"
        },
        "id": "8cc5037c-1e32-435c-b0cc-01e1fb3b863c",
        "outputId": "c9b31fb9-68b6-4f19-dc07-e6be22ebfb1f"
      },
      "outputs": [
        {
          "output_type": "stream",
          "name": "stdout",
          "text": [
            "1/1 [==============================] - 1s 781ms/step\n"
          ]
        }
      ],
      "source": [
        "yhat = model.predict(tf.expand_dims(sample[0], axis=0))"
      ],
      "id": "8cc5037c-1e32-435c-b0cc-01e1fb3b863c"
    },
    {
      "cell_type": "code",
      "execution_count": null,
      "metadata": {
        "colab": {
          "base_uri": "https://localhost:8080/"
        },
        "id": "-2FgB-OfzE8w",
        "outputId": "13c29511-b70c-4f19-a7be-996aaf3d77d6"
      },
      "outputs": [
        {
          "output_type": "execute_result",
          "data": {
            "text/plain": [
              "array([[[4.68622233e-07, 6.96361155e-07, 9.98931825e-01, ...,\n",
              "         4.53856108e-09, 6.72427223e-06, 5.53322437e-08],\n",
              "        [9.47112198e-07, 1.48825775e-05, 2.28150137e-04, ...,\n",
              "         7.28212837e-11, 4.19916887e-06, 4.73503945e-07],\n",
              "        [1.09269899e-06, 2.53867096e-04, 1.18353830e-06, ...,\n",
              "         4.68897317e-12, 1.36283488e-05, 6.98059978e-07],\n",
              "        ...,\n",
              "        [9.99948978e-01, 4.71357509e-10, 1.11946175e-09, ...,\n",
              "         4.97162381e-12, 7.48272999e-09, 5.07414843e-05],\n",
              "        [8.04410447e-05, 5.20044618e-10, 4.93652841e-10, ...,\n",
              "         1.56302282e-12, 2.78515566e-09, 9.99919057e-01],\n",
              "        [9.99859214e-01, 3.15854587e-09, 7.37218864e-09, ...,\n",
              "         1.05876308e-10, 7.26764924e-08, 1.39513184e-04]]], dtype=float32)"
            ]
          },
          "metadata": {},
          "execution_count": 63
        }
      ],
      "source": [
        "yhat"
      ],
      "id": "-2FgB-OfzE8w"
    },
    {
      "cell_type": "code",
      "execution_count": null,
      "metadata": {
        "colab": {
          "base_uri": "https://localhost:8080/"
        },
        "id": "CEj7d6zkzJUH",
        "outputId": "10ad53e1-68ca-4489-907b-10b22c4a89cb"
      },
      "outputs": [
        {
          "output_type": "execute_result",
          "data": {
            "text/plain": [
              "(1, 75, 41)"
            ]
          },
          "metadata": {},
          "execution_count": 64
        }
      ],
      "source": [
        "yhat.shape"
      ],
      "id": "CEj7d6zkzJUH"
    },
    {
      "cell_type": "code",
      "execution_count": null,
      "metadata": {
        "id": "22c4f77d-715d-409f-bc5e-3ebe48704e8f"
      },
      "outputs": [],
      "source": [
        "decoded = tf.keras.backend.ctc_decode(yhat, input_length=[75], greedy=True)[0][0].numpy()"
      ],
      "id": "22c4f77d-715d-409f-bc5e-3ebe48704e8f"
    },
    {
      "cell_type": "code",
      "execution_count": null,
      "metadata": {
        "colab": {
          "base_uri": "https://localhost:8080/"
        },
        "id": "e4d12ecc-b634-499e-a4bc-db9f010835fb",
        "outputId": "5bf30bf6-f4cd-479d-c669-d2034ffdc22b"
      },
      "outputs": [
        {
          "output_type": "stream",
          "name": "stdout",
          "text": [
            "PREDICTIONS :\n"
          ]
        },
        {
          "output_type": "execute_result",
          "data": {
            "text/plain": [
              "[<tf.Tensor: shape=(), dtype=string, numpy=b'bin blue at l eight please'>]"
            ]
          },
          "metadata": {},
          "execution_count": 66
        }
      ],
      "source": [
        "print(\"PREDICTIONS :\")\n",
        "[tf.strings.reduce_join([num_to_char(word) for word in sentence]) for sentence in decoded]"
      ],
      "id": "e4d12ecc-b634-499e-a4bc-db9f010835fb"
    },
    {
      "cell_type": "markdown",
      "metadata": {
        "id": "B-RYGsi1s9s4"
      },
      "source": [
        "## **Results**"
      ],
      "id": "B-RYGsi1s9s4"
    },
    {
      "cell_type": "code",
      "execution_count": null,
      "metadata": {
        "id": "IxBiJztwzlwT"
      },
      "outputs": [],
      "source": [
        "test_data = test.as_numpy_iterator()"
      ],
      "id": "IxBiJztwzlwT"
    },
    {
      "cell_type": "code",
      "execution_count": null,
      "metadata": {
        "colab": {
          "base_uri": "https://localhost:8080/"
        },
        "id": "n5ayrYiwBHZH",
        "outputId": "2a782fc1-5e96-49f6-c471-2ea6d3b08866"
      },
      "outputs": [
        {
          "output_type": "stream",
          "name": "stdout",
          "text": [
            "1/1 [==============================] - 0s 307ms/step\n",
            "1/1 [==============================] - 0s 220ms/step\n",
            "1/1 [==============================] - 0s 202ms/step\n",
            "1/1 [==============================] - 0s 198ms/step\n",
            "1/1 [==============================] - 0s 207ms/step\n",
            "1/1 [==============================] - 0s 198ms/step\n",
            "1/1 [==============================] - 0s 200ms/step\n",
            "1/1 [==============================] - 0s 198ms/step\n",
            "1/1 [==============================] - 0s 224ms/step\n",
            "1/1 [==============================] - 0s 201ms/step\n",
            "1/1 [==============================] - 0s 205ms/step\n",
            "1/1 [==============================] - 0s 202ms/step\n",
            "1/1 [==============================] - 0s 205ms/step\n",
            "1/1 [==============================] - 0s 180ms/step\n",
            "1/1 [==============================] - 0s 251ms/step\n",
            "1/1 [==============================] - 0s 243ms/step\n",
            "1/1 [==============================] - 0s 242ms/step\n",
            "1/1 [==============================] - 0s 239ms/step\n",
            "1/1 [==============================] - 0s 224ms/step\n",
            "1/1 [==============================] - 0s 206ms/step\n",
            "1/1 [==============================] - 0s 199ms/step\n",
            "1/1 [==============================] - 0s 206ms/step\n",
            "1/1 [==============================] - 0s 205ms/step\n",
            "1/1 [==============================] - 0s 203ms/step\n",
            "1/1 [==============================] - 0s 206ms/step\n",
            "1/1 [==============================] - 0s 206ms/step\n",
            "1/1 [==============================] - 0s 212ms/step\n",
            "1/1 [==============================] - 0s 206ms/step\n",
            "1/1 [==============================] - 0s 207ms/step\n",
            "1/1 [==============================] - 0s 203ms/step\n",
            "1/1 [==============================] - 0s 198ms/step\n",
            "1/1 [==============================] - 0s 242ms/step\n",
            "1/1 [==============================] - 0s 234ms/step\n",
            "1/1 [==============================] - 0s 238ms/step\n",
            "1/1 [==============================] - 0s 225ms/step\n",
            "1/1 [==============================] - 0s 254ms/step\n",
            "1/1 [==============================] - 0s 231ms/step\n",
            "1/1 [==============================] - 0s 206ms/step\n",
            "1/1 [==============================] - 0s 197ms/step\n",
            "1/1 [==============================] - 0s 207ms/step\n",
            "1/1 [==============================] - 0s 214ms/step\n",
            "1/1 [==============================] - 0s 202ms/step\n",
            "1/1 [==============================] - 0s 214ms/step\n",
            "1/1 [==============================] - 0s 209ms/step\n",
            "1/1 [==============================] - 0s 202ms/step\n",
            "1/1 [==============================] - 0s 210ms/step\n",
            "1/1 [==============================] - 0s 206ms/step\n",
            "1/1 [==============================] - 0s 201ms/step\n",
            "1/1 [==============================] - 0s 204ms/step\n",
            "1/1 [==============================] - 0s 200ms/step\n",
            "['bin red in z six now', 'bin red by a zero please', 'place red at p five soon', 'lay white in y nine again', 'bin red in l nine soon', 'bin white by t seven soon', 'lay blue with r five again', 'place blue by i nine soon', 'bin white with a eight now', 'place red by d zero now', 'bin red by m six now', 'lay blue by k five soon', 'bin blue in z three again', 'lay red with f one soon', 'bin red with n zero now', 'lay red by y eight now', 'lay white at z one soon', 'place blue by v nine again', 'bin blue by s five soon', 'place blue at c one soon', 'lay white at r seven soon', 'lay red at r two please', 'bin white with u zero now', 'place red by q one again', 'set blue with h six now', 'set green with d one soon', 'bin blue with g two please', 'set green at p two please', 'lay green in z three soon', 'bin red at g one again', 'lay red with f three again', 'bin white in t one again', 'lay white by l six now', 'bin red by t two please', 'bin red by t three again', 'place white with k four now', 'bin green by n nine soon', 'lay white by s two please', 'place red at c eight please', 'place white with k seven again', 'lay green in r nine soon', 'place red by x three soon', 'lay white at z three again', 'lay blue with e five soon', 'lay blue by k four now', 'set blue at n three soon', 'lay red with l six please', 'set red at h six please', 'bin white at t three soon', 'place green by e two now', 'lay blue at d seven soon', 'bin white at a three again', 'lay red at r three again', 'set blue at g nine soon', 'lay green with g three soon', 'lay blue in d five again', 'lay red in y three again', 'bin green with h eight now', 'lay red at e four please', 'set blue by n eight sp please', 'lay blue with y seven soon', 'lay blue at x nine soon', 'set white in b five again', 'lay blue with e seven again', 'place blue with p six now', 'place green by k nine again', 'place blue with p nine again', 'bin red at m four please', 'place white in c eight now', 'set red with v zero now', 'bin green with b six please', 'set white with v eight please', 'lay green in z five again', 'place white in x zero now', 'bin blue by s seven again', 'place white by q seven again', 'place green by k six now', 'bin green in t five soon', 'set green with x two now', 'place blue by c seven again', 'lay blue at k one soon', 'lay white with f seven soon', 'bin blue by f six now', 'set red by u six now', 'lay blue by k seven again', 'set blue at a four now', 'bin green by b two please', 'lay red in d eight now', 'place white by k one soon', 'lay blue with r three soon', 'bin red with t seven again', 'lay green in f one soon', 'lay blue in x six please', 'lay red at y four now', 'bin blue with m six please', 'bin white with a nine soon', 'place green by e five again', 'lay red at y five soon', 'set white in b three soon', 'place blue in i two please']\n",
            "['bin red in z six now', 'bin red by a zero please', 'place red at p five soon', 'lay white in y nine again', 'bin red in l nine soon', 'bin white by t seven soon', 'lay blue with r five again', 'place blue by i nine soon', 'bin white with a eight now', 'place red by d zero now', 'bin red by m six now', 'lay blue by k five soon', 'bin blue in z three again', 'lay red with one soon', 'bin red with n zero now', 'lay red by y eight now', 'lay white at z one soon', 'place blue by v nine again', 'bin blue by s five soon', 'place blue at c one soon', 'lay white at r seven soon', 'lay red at r two please', 'bin white with u zero now', 'place red by k one again', 'set blue with h six now', 'set green with one soon', 'bin blue with g two please', 'set green at p two please', 'lay green in z three soon', 'bin red at g one again', 'lay red with three again', 'bin white in t one again', 'lay white by l six now', 'bin red by t two please', 'bin red by t three again', 'place white with k four now', 'bin green by n nine soon', 'lay white by s two please', 'place red at c eight please', 'place white with k seven again', 'lay green in r nine soon', 'place red by x three soon', 'lay white at z three again', 'lay blue with five soon', 'lay blue by k four now', 'set blue at n three soon', 'lay red with l six please', 'set red at h six please', 'bin white at t three soon', 'place green by e two now', 'lay blue at d seven soon', 'bin white at a three again', 'lay red at r three again', 'set blue at g nine soon', 'lay green with g three soon', 'lay blue in d five again', 'lay red in y three again', 'bin green with h eight now', 'lay red at four please', 'set blue by n eight please', 'lay blue with y seven soon', 'lay blue at x nine soon', 'set white in b five again', 'lay blue with e seven again', 'place blue with p six now', 'place green by k nine again', 'place blue with p nine again', 'bin red at m four please', 'place white in c eight now', 'set red with v zero now', 'bin green with b six please', 'set white with v eight please', 'lay green in z five again', 'place white in x zero now', 'bin blue by s seven again', 'place white by q seven again', 'place green by k six now', 'bin green in t five soon', 'set green with x two now', 'place blue by c seven again', 'lay blue at k one soon', 'lay white with f seven soon', 'bin blue by f six now', 'set red by s six now', 'lay blue by k seven again', 'set blue at a four now', 'bin green by b two please', 'lay red in d eight now', 'place white by k one soon', 'lay blue with three soon', 'bin red with t seven again', 'lay green in f one soon', 'lay blue in x six please', 'lay red at y four now', 'bin blue with m six please', 'bin white with a nine soon', 'place green by e five again', 'lay red at y five soon', 'set white in b three soon', 'place blue in i two please']\n"
          ]
        }
      ],
      "source": [
        "true_labels = []\n",
        "predicted_sequences = []\n",
        "\n",
        "# Assuming test_data is your iterator over the test dataset\n",
        "for video_data in test_data:\n",
        "    frames, true_labels_single_video = video_data\n",
        "    true_labels_single_video = [tf.strings.reduce_join([num_to_char(word) for word in sentence]).numpy().decode('utf-8') for sentence in true_labels_single_video]\n",
        "\n",
        "    # Assuming frames is the input to your model\n",
        "    yhat_single_video = model.predict(frames)\n",
        "\n",
        "    # Get the length of the sequence for each sample in the batch\n",
        "    sequence_length = [yhat_single_video.shape[1]] * yhat_single_video.shape[0]\n",
        "\n",
        "    # Perform CTC decoding\n",
        "    decoded = tf.keras.backend.ctc_decode(yhat_single_video, input_length=sequence_length, greedy=True)[0][0].numpy()\n",
        "    # Iterate over the videos in the batch\n",
        "    for i in range(len(decoded)):\n",
        "        decoded_strings_video = [num_to_char(word) for word in decoded[i]]\n",
        "        predicted_video = ''.join([str(decoded_string.numpy(), 'utf-8') for decoded_string in decoded_strings_video])\n",
        "        predicted_sequences.append(predicted_video)\n",
        "\n",
        "    true_labels.append(true_labels_single_video[0])\n",
        "    true_labels.append(true_labels_single_video[1])\n",
        "\n",
        "# Print or use the lists as needed\n",
        "print(true_labels)\n",
        "print(predicted_sequences)"
      ],
      "id": "n5ayrYiwBHZH"
    },
    {
      "cell_type": "code",
      "execution_count": null,
      "metadata": {
        "id": "JXci9_eNaA3G",
        "colab": {
          "base_uri": "https://localhost:8080/"
        },
        "outputId": "ac5782ef-2275-4aa8-8a3f-0587b4f39946"
      },
      "outputs": [
        {
          "output_type": "execute_result",
          "data": {
            "text/plain": [
              "100"
            ]
          },
          "metadata": {},
          "execution_count": 69
        }
      ],
      "source": [
        "len(true_labels)"
      ],
      "id": "JXci9_eNaA3G"
    },
    {
      "cell_type": "code",
      "execution_count": null,
      "metadata": {
        "id": "EXh0OQ8eyOcB",
        "colab": {
          "base_uri": "https://localhost:8080/"
        },
        "outputId": "71c546d7-f380-4690-af93-ba031c1ad466"
      },
      "outputs": [
        {
          "output_type": "execute_result",
          "data": {
            "text/plain": [
              "100"
            ]
          },
          "metadata": {},
          "execution_count": 70
        }
      ],
      "source": [
        "len(predicted_sequences)"
      ],
      "id": "EXh0OQ8eyOcB"
    },
    {
      "cell_type": "code",
      "execution_count": null,
      "metadata": {
        "id": "hhJqDLSnCAkA",
        "colab": {
          "base_uri": "https://localhost:8080/"
        },
        "outputId": "a8fd51cf-793f-412d-eef7-88de503b1b3b"
      },
      "outputs": [
        {
          "output_type": "execute_result",
          "data": {
            "text/plain": [
              "['bin red in z six now',\n",
              " 'bin red by a zero please',\n",
              " 'place red at p five soon',\n",
              " 'lay white in y nine again',\n",
              " 'bin red in l nine soon',\n",
              " 'bin white by t seven soon',\n",
              " 'lay blue with r five again',\n",
              " 'place blue by i nine soon',\n",
              " 'bin white with a eight now',\n",
              " 'place red by d zero now',\n",
              " 'bin red by m six now',\n",
              " 'lay blue by k five soon',\n",
              " 'bin blue in z three again',\n",
              " 'lay red with f one soon',\n",
              " 'bin red with n zero now',\n",
              " 'lay red by y eight now',\n",
              " 'lay white at z one soon',\n",
              " 'place blue by v nine again',\n",
              " 'bin blue by s five soon',\n",
              " 'place blue at c one soon',\n",
              " 'lay white at r seven soon',\n",
              " 'lay red at r two please',\n",
              " 'bin white with u zero now',\n",
              " 'place red by q one again',\n",
              " 'set blue with h six now',\n",
              " 'set green with d one soon',\n",
              " 'bin blue with g two please',\n",
              " 'set green at p two please',\n",
              " 'lay green in z three soon',\n",
              " 'bin red at g one again',\n",
              " 'lay red with f three again',\n",
              " 'bin white in t one again',\n",
              " 'lay white by l six now',\n",
              " 'bin red by t two please',\n",
              " 'bin red by t three again',\n",
              " 'place white with k four now',\n",
              " 'bin green by n nine soon',\n",
              " 'lay white by s two please',\n",
              " 'place red at c eight please',\n",
              " 'place white with k seven again',\n",
              " 'lay green in r nine soon',\n",
              " 'place red by x three soon',\n",
              " 'lay white at z three again',\n",
              " 'lay blue with e five soon',\n",
              " 'lay blue by k four now',\n",
              " 'set blue at n three soon',\n",
              " 'lay red with l six please',\n",
              " 'set red at h six please',\n",
              " 'bin white at t three soon',\n",
              " 'place green by e two now',\n",
              " 'lay blue at d seven soon',\n",
              " 'bin white at a three again',\n",
              " 'lay red at r three again',\n",
              " 'set blue at g nine soon',\n",
              " 'lay green with g three soon',\n",
              " 'lay blue in d five again',\n",
              " 'lay red in y three again',\n",
              " 'bin green with h eight now',\n",
              " 'lay red at e four please',\n",
              " 'set blue by n eight sp please',\n",
              " 'lay blue with y seven soon',\n",
              " 'lay blue at x nine soon',\n",
              " 'set white in b five again',\n",
              " 'lay blue with e seven again',\n",
              " 'place blue with p six now',\n",
              " 'place green by k nine again',\n",
              " 'place blue with p nine again',\n",
              " 'bin red at m four please',\n",
              " 'place white in c eight now',\n",
              " 'set red with v zero now',\n",
              " 'bin green with b six please',\n",
              " 'set white with v eight please',\n",
              " 'lay green in z five again',\n",
              " 'place white in x zero now',\n",
              " 'bin blue by s seven again',\n",
              " 'place white by q seven again',\n",
              " 'place green by k six now',\n",
              " 'bin green in t five soon',\n",
              " 'set green with x two now',\n",
              " 'place blue by c seven again',\n",
              " 'lay blue at k one soon',\n",
              " 'lay white with f seven soon',\n",
              " 'bin blue by f six now',\n",
              " 'set red by u six now',\n",
              " 'lay blue by k seven again',\n",
              " 'set blue at a four now',\n",
              " 'bin green by b two please',\n",
              " 'lay red in d eight now',\n",
              " 'place white by k one soon',\n",
              " 'lay blue with r three soon',\n",
              " 'bin red with t seven again',\n",
              " 'lay green in f one soon',\n",
              " 'lay blue in x six please',\n",
              " 'lay red at y four now',\n",
              " 'bin blue with m six please',\n",
              " 'bin white with a nine soon',\n",
              " 'place green by e five again',\n",
              " 'lay red at y five soon',\n",
              " 'set white in b three soon',\n",
              " 'place blue in i two please']"
            ]
          },
          "metadata": {},
          "execution_count": 71
        }
      ],
      "source": [
        "true_labels\n"
      ],
      "id": "hhJqDLSnCAkA"
    },
    {
      "cell_type": "code",
      "execution_count": null,
      "metadata": {
        "id": "BHW5jJpv0NRz",
        "colab": {
          "base_uri": "https://localhost:8080/"
        },
        "outputId": "97d9e90f-ce41-4304-b2de-44b4c696745b"
      },
      "outputs": [
        {
          "output_type": "execute_result",
          "data": {
            "text/plain": [
              "['bin red in z six now',\n",
              " 'bin red by a zero please',\n",
              " 'place red at p five soon',\n",
              " 'lay white in y nine again',\n",
              " 'bin red in l nine soon',\n",
              " 'bin white by t seven soon',\n",
              " 'lay blue with r five again',\n",
              " 'place blue by i nine soon',\n",
              " 'bin white with a eight now',\n",
              " 'place red by d zero now',\n",
              " 'bin red by m six now',\n",
              " 'lay blue by k five soon',\n",
              " 'bin blue in z three again',\n",
              " 'lay red with one soon',\n",
              " 'bin red with n zero now',\n",
              " 'lay red by y eight now',\n",
              " 'lay white at z one soon',\n",
              " 'place blue by v nine again',\n",
              " 'bin blue by s five soon',\n",
              " 'place blue at c one soon',\n",
              " 'lay white at r seven soon',\n",
              " 'lay red at r two please',\n",
              " 'bin white with u zero now',\n",
              " 'place red by k one again',\n",
              " 'set blue with h six now',\n",
              " 'set green with one soon',\n",
              " 'bin blue with g two please',\n",
              " 'set green at p two please',\n",
              " 'lay green in z three soon',\n",
              " 'bin red at g one again',\n",
              " 'lay red with three again',\n",
              " 'bin white in t one again',\n",
              " 'lay white by l six now',\n",
              " 'bin red by t two please',\n",
              " 'bin red by t three again',\n",
              " 'place white with k four now',\n",
              " 'bin green by n nine soon',\n",
              " 'lay white by s two please',\n",
              " 'place red at c eight please',\n",
              " 'place white with k seven again',\n",
              " 'lay green in r nine soon',\n",
              " 'place red by x three soon',\n",
              " 'lay white at z three again',\n",
              " 'lay blue with five soon',\n",
              " 'lay blue by k four now',\n",
              " 'set blue at n three soon',\n",
              " 'lay red with l six please',\n",
              " 'set red at h six please',\n",
              " 'bin white at t three soon',\n",
              " 'place green by e two now',\n",
              " 'lay blue at d seven soon',\n",
              " 'bin white at a three again',\n",
              " 'lay red at r three again',\n",
              " 'set blue at g nine soon',\n",
              " 'lay green with g three soon',\n",
              " 'lay blue in d five again',\n",
              " 'lay red in y three again',\n",
              " 'bin green with h eight now',\n",
              " 'lay red at four please',\n",
              " 'set blue by n eight please',\n",
              " 'lay blue with y seven soon',\n",
              " 'lay blue at x nine soon',\n",
              " 'set white in b five again',\n",
              " 'lay blue with e seven again',\n",
              " 'place blue with p six now',\n",
              " 'place green by k nine again',\n",
              " 'place blue with p nine again',\n",
              " 'bin red at m four please',\n",
              " 'place white in c eight now',\n",
              " 'set red with v zero now',\n",
              " 'bin green with b six please',\n",
              " 'set white with v eight please',\n",
              " 'lay green in z five again',\n",
              " 'place white in x zero now',\n",
              " 'bin blue by s seven again',\n",
              " 'place white by q seven again',\n",
              " 'place green by k six now',\n",
              " 'bin green in t five soon',\n",
              " 'set green with x two now',\n",
              " 'place blue by c seven again',\n",
              " 'lay blue at k one soon',\n",
              " 'lay white with f seven soon',\n",
              " 'bin blue by f six now',\n",
              " 'set red by s six now',\n",
              " 'lay blue by k seven again',\n",
              " 'set blue at a four now',\n",
              " 'bin green by b two please',\n",
              " 'lay red in d eight now',\n",
              " 'place white by k one soon',\n",
              " 'lay blue with three soon',\n",
              " 'bin red with t seven again',\n",
              " 'lay green in f one soon',\n",
              " 'lay blue in x six please',\n",
              " 'lay red at y four now',\n",
              " 'bin blue with m six please',\n",
              " 'bin white with a nine soon',\n",
              " 'place green by e five again',\n",
              " 'lay red at y five soon',\n",
              " 'set white in b three soon',\n",
              " 'place blue in i two please']"
            ]
          },
          "metadata": {},
          "execution_count": 72
        }
      ],
      "source": [
        "predicted_sequences\n"
      ],
      "id": "BHW5jJpv0NRz"
    },
    {
      "cell_type": "code",
      "execution_count": null,
      "metadata": {
        "id": "VHUFFdysW_KC",
        "colab": {
          "base_uri": "https://localhost:8080/"
        },
        "outputId": "936c3cc9-66ea-45ee-eee2-27cd89db93a7"
      },
      "outputs": [
        {
          "output_type": "stream",
          "name": "stdout",
          "text": [
            "Average WER: 1.48%\n",
            "Average CER: 0.68%\n"
          ]
        }
      ],
      "source": [
        "from jiwer import wer, cer\n",
        "\n",
        "# Calculate the WER for each pair of sentences and take the average\n",
        "wer_list = [wer(true, pred) for true, pred in zip(true_labels, predicted_sequences)]\n",
        "wer_mean = sum(wer_list) / len(wer_list)\n",
        "\n",
        "# Calculate the CER for each pair of sentences and take the average\n",
        "cer_list = [cer(true, pred) for true, pred in zip(true_labels, predicted_sequences)]\n",
        "cer_mean = sum(cer_list) / len(cer_list)\n",
        "\n",
        "# Print the results\n",
        "print(f\"Average WER: {wer_mean*100:.2f}%\")\n",
        "print(f\"Average CER: {cer_mean*100:.2f}%\")\n"
      ],
      "id": "VHUFFdysW_KC"
    },
    {
      "cell_type": "markdown",
      "metadata": {
        "id": "Aw-4lr-Z2gez"
      },
      "source": [
        "## **Confusion Matrix**"
      ],
      "id": "Aw-4lr-Z2gez"
    },
    {
      "cell_type": "code",
      "execution_count": null,
      "metadata": {
        "id": "XbWSaKaE51N9",
        "colab": {
          "base_uri": "https://localhost:8080/"
        },
        "outputId": "50bd693e-1be6-4f36-c2fa-75136b593cd8"
      },
      "outputs": [
        {
          "output_type": "stream",
          "name": "stderr",
          "text": [
            "[nltk_data] Downloading package cmudict to /root/nltk_data...\n",
            "[nltk_data]   Unzipping corpora/cmudict.zip.\n"
          ]
        },
        {
          "output_type": "stream",
          "name": "stdout",
          "text": [
            "['l', 'l']\n"
          ]
        }
      ],
      "source": [
        "import nltk\n",
        "nltk.download('cmudict')\n",
        "from nltk.corpus import cmudict\n",
        "\n",
        "unique_phonemes = ['aa', 'y', 'w', 'v', 'uw', 'th', 't', 's', 'r', 'p', 'ow', 'n', 'm', 'l', 'k', 'jh', 'iy', 'ih', 'g', 'f', 'ey', 'eh', 'd', 'ch', 'b', 'ay', 'aw', 'ao', 'ah', 'ae', 'z']\n",
        "\n",
        "def get_phonemes(word, unique_phonemes):\n",
        "    # Convert the word to lowercase\n",
        "    word = word.lower().strip()\n",
        "\n",
        "    # Create a list to store the filtered phonemes\n",
        "    filtered_phonemes = []\n",
        "\n",
        "    # Get the phonemes from the CMU Pronouncing Dictionary\n",
        "    try:\n",
        "        pronunciations = cmudict.dict()[word]\n",
        "        for pronunciation in pronunciations:\n",
        "            # Iterate over the phonemes in the pronunciation\n",
        "            for phoneme in pronunciation:\n",
        "              if phoneme.lower() in unique_phonemes:\n",
        "                filtered_phonemes.append(phoneme.lower())\n",
        "    except KeyError:\n",
        "        # Handle the case where the word is not found in the dictionary\n",
        "        pass\n",
        "\n",
        "    return filtered_phonemes\n",
        "\n",
        "# Example usage:\n",
        "phonemes_for_hello = get_phonemes(\"hello\", unique_phonemes)\n",
        "print(phonemes_for_hello)\n"
      ],
      "id": "XbWSaKaE51N9"
    },
    {
      "cell_type": "code",
      "execution_count": null,
      "metadata": {
        "id": "e1Ej5zh52gD7"
      },
      "outputs": [],
      "source": [
        "from sklearn.metrics import confusion_matrix\n",
        "import seaborn as sns\n",
        "import matplotlib.pyplot as plt\n",
        "import numpy as np\n",
        "\n",
        "# Example true and predicted data (as sentences)\n",
        "true_sentences = true_labels  # Replace with your actual data\n",
        "predicted_sentences = predicted_sequences  # Replace with your actual data\n",
        "\n",
        "# Function to convert a sentence to a sequence of phonemes\n",
        "def sentence_to_phonemes(sentence,unique_phonemes):\n",
        "    phonemes=[]\n",
        "    for word in sentence.split():\n",
        "        try:\n",
        "            for phoneme in get_phonemes(word, unique_phonemes):\n",
        "                phonemes.append(phoneme)\n",
        "        except KeyError:\n",
        "            # Skip the word if it's not found in the CMU Pronouncing Dictionary\n",
        "            pass\n",
        "    return phonemes\n",
        "\n",
        "# Convert true and predicted sentences to sequences of phonemes\n",
        "true_phonemes = [[phoneme for phoneme in sentence_to_phonemes(sentence, unique_phonemes)] for sentence in true_sentences]\n",
        "predicted_phonemes = [[phoneme for phoneme in sentence_to_phonemes(sentence, unique_phonemes)] for sentence in predicted_sentences]"
      ],
      "id": "e1Ej5zh52gD7"
    },
    {
      "cell_type": "code",
      "source": [
        "len(true_phonemes)"
      ],
      "metadata": {
        "id": "NMjwUdgZN7By",
        "colab": {
          "base_uri": "https://localhost:8080/"
        },
        "outputId": "7eceff4a-93b0-4d28-d9e3-965dc3c37fb3"
      },
      "id": "NMjwUdgZN7By",
      "execution_count": null,
      "outputs": [
        {
          "output_type": "execute_result",
          "data": {
            "text/plain": [
              "100"
            ]
          },
          "metadata": {},
          "execution_count": 76
        }
      ]
    },
    {
      "cell_type": "code",
      "source": [
        "len(predicted_phonemes)"
      ],
      "metadata": {
        "id": "Obq9Ed9GOMcz",
        "colab": {
          "base_uri": "https://localhost:8080/"
        },
        "outputId": "7b62f74c-89a4-46ce-aa41-6613f157a46c"
      },
      "id": "Obq9Ed9GOMcz",
      "execution_count": null,
      "outputs": [
        {
          "output_type": "execute_result",
          "data": {
            "text/plain": [
              "100"
            ]
          },
          "metadata": {},
          "execution_count": 77
        }
      ]
    },
    {
      "cell_type": "code",
      "source": [
        "true_phonems_flat = []\n",
        "predicted_phonems_flat = []\n",
        "\n",
        "for i in range(len(true_phonemes)):\n",
        "    for j in range(len(true_phonemes[i])):\n",
        "        true_phonems_flat.append(true_phonemes[i][j])\n",
        "        try:\n",
        "            predicted_phonems_flat.append(predicted_phonemes[i][j])\n",
        "        except:\n",
        "            true_phonems_flat.pop()"
      ],
      "metadata": {
        "id": "VS0HgJTcRgYn"
      },
      "id": "VS0HgJTcRgYn",
      "execution_count": null,
      "outputs": []
    },
    {
      "cell_type": "code",
      "source": [
        "len(true_phonems_flat),len(predicted_phonems_flat)"
      ],
      "metadata": {
        "id": "gx9Sg6DCQBc8",
        "colab": {
          "base_uri": "https://localhost:8080/"
        },
        "outputId": "3aed0e96-54cf-47a5-8ca9-ecc101c0fa5e"
      },
      "id": "gx9Sg6DCQBc8",
      "execution_count": null,
      "outputs": [
        {
          "output_type": "execute_result",
          "data": {
            "text/plain": [
              "(1284, 1284)"
            ]
          },
          "metadata": {},
          "execution_count": 79
        }
      ]
    },
    {
      "cell_type": "code",
      "execution_count": null,
      "metadata": {
        "id": "QWzD5hWBOdNY",
        "colab": {
          "base_uri": "https://localhost:8080/",
          "height": 1000
        },
        "outputId": "ead343e2-023d-44d7-9a7e-7e6cf8fffa17"
      },
      "outputs": [
        {
          "output_type": "stream",
          "name": "stderr",
          "text": [
            "<ipython-input-80-48a75dbf0be9>:5: RuntimeWarning: invalid value encountered in divide\n",
            "  conf_matrix_percent = conf_matrix.astype('float') / conf_matrix.sum(axis=1)[:, np.newaxis]\n"
          ]
        },
        {
          "output_type": "display_data",
          "data": {
            "text/plain": [
              "<Figure size 1500x1500 with 2 Axes>"
            ],
            "image/png": "[encoded data removed]"
          },
          "metadata": {}
        }
      ],
      "source": [
        "# Create a confusion matrix\n",
        "conf_matrix = confusion_matrix(true_phonems_flat, predicted_phonems_flat, labels=unique_phonemes)\n",
        "\n",
        "# Convert to percentage confusion matrix\n",
        "conf_matrix_percent = conf_matrix.astype('float') / conf_matrix.sum(axis=1)[:, np.newaxis]\n",
        "\n",
        "# Plot the confusion matrix\n",
        "plt.figure(figsize=(15, 15))\n",
        "sns.heatmap(conf_matrix_percent, annot=True, cmap=\"Blues\", xticklabels=unique_phonemes, yticklabels=unique_phonemes)\n",
        "plt.title('Phoneme-based Confusion Matrix')\n",
        "plt.xlabel('Predicted Phoneme')\n",
        "plt.ylabel('True Phoneme')\n",
        "plt.show()"
      ],
      "id": "QWzD5hWBOdNY"
    },
    {
      "cell_type": "markdown",
      "source": [
        "## **Confusion Matrix 2**"
      ],
      "metadata": {
        "id": "fbX9iOlZXYdN"
      },
      "id": "fbX9iOlZXYdN"
    },
    {
      "cell_type": "code",
      "execution_count": null,
      "metadata": {
        "id": "fjKcnVQ9Ej8q",
        "colab": {
          "base_uri": "https://localhost:8080/"
        },
        "outputId": "72c0e0de-39a0-488e-e747-912ca2b34249"
      },
      "outputs": [
        {
          "output_type": "stream",
          "name": "stderr",
          "text": [
            "[nltk_data] Downloading package cmudict to /root/nltk_data...\n",
            "[nltk_data]   Package cmudict is already up-to-date!\n"
          ]
        }
      ],
      "source": [
        "import nltk\n",
        "nltk.download('cmudict')\n",
        "from nltk.corpus import cmudict\n",
        "\n",
        "def get_phonemes(word):\n",
        "    # Convert the word to lowercase\n",
        "    word = word.lower().strip()\n",
        "\n",
        "    # Create a list to store the filtered phonemes\n",
        "    filtered_phonemes = []\n",
        "\n",
        "    # Get the phonemes from the CMU Pronouncing Dictionary\n",
        "    try:\n",
        "        pronunciations = cmudict.dict()[word]\n",
        "        for pronunciation in pronunciations:\n",
        "            # Iterate over the phonemes in the pronunciation\n",
        "            for phoneme in pronunciation:\n",
        "                filtered_phonemes.append(phoneme.lower())\n",
        "    except KeyError:\n",
        "        # Handle the case where the word is not found in the dictionary\n",
        "        pass\n",
        "\n",
        "    return filtered_phonemes\n",
        "\n",
        "\n",
        "# Example true and predicted data (as sentences)\n",
        "true_sentences = true_labels  # Replace with your actual data\n",
        "predicted_sentences = predicted_sequences  # Replace with your actual data\n",
        "\n",
        "# Function to convert a sentence to a sequence of phonemes\n",
        "def sentence_to_phonemes(sentence):\n",
        "    phonemes=[]\n",
        "    for word in sentence.split():\n",
        "        try:\n",
        "            for phoneme in get_phonemes(word):\n",
        "                phonemes.append(phoneme)\n",
        "        except KeyError:\n",
        "            # Skip the word if it's not found in the CMU Pronouncing Dictionary\n",
        "            pass\n",
        "    return phonemes\n",
        "\n",
        "# Convert true and predicted sentences to sequences of phonemes\n",
        "true_phonemes = [[phoneme for phoneme in sentence_to_phonemes(sentence)] for sentence in true_sentences]\n",
        "predicted_phonemes = [[phoneme for phoneme in sentence_to_phonemes(sentence)] for sentence in predicted_sentences]"
      ],
      "id": "fjKcnVQ9Ej8q"
    },
    {
      "cell_type": "code",
      "source": [
        "len(true_phonemes)"
      ],
      "metadata": {
        "id": "mdSFv_QYeWhQ",
        "colab": {
          "base_uri": "https://localhost:8080/"
        },
        "outputId": "5606a223-242b-4c32-d625-5baced8477aa"
      },
      "id": "mdSFv_QYeWhQ",
      "execution_count": null,
      "outputs": [
        {
          "output_type": "execute_result",
          "data": {
            "text/plain": [
              "100"
            ]
          },
          "metadata": {},
          "execution_count": 82
        }
      ]
    },
    {
      "cell_type": "code",
      "source": [
        "true_phonems_flat = []\n",
        "predicted_phonems_flat = []\n",
        "\n",
        "for i in range(len(true_phonemes)):\n",
        "    for j in range(len(true_phonemes[i])):\n",
        "        true_phonems_flat.append(true_phonemes[i][j])\n",
        "        try:\n",
        "            predicted_phonems_flat.append(predicted_phonemes[i][j])\n",
        "        except:\n",
        "            true_phonems_flat.pop()"
      ],
      "metadata": {
        "id": "uWcgqCkTYcgc"
      },
      "id": "uWcgqCkTYcgc",
      "execution_count": null,
      "outputs": []
    },
    {
      "cell_type": "code",
      "source": [
        "unique_phonemes = sorted(set(true_phonems_flat))"
      ],
      "metadata": {
        "id": "Gr1uuFX8YelK"
      },
      "id": "Gr1uuFX8YelK",
      "execution_count": null,
      "outputs": []
    },
    {
      "cell_type": "code",
      "source": [
        "unique_phonemes"
      ],
      "metadata": {
        "id": "wdCi5SC9eblD",
        "colab": {
          "base_uri": "https://localhost:8080/"
        },
        "outputId": "284b7bc9-e708-4322-d607-57943a5314b2"
      },
      "id": "wdCi5SC9eblD",
      "execution_count": null,
      "outputs": [
        {
          "output_type": "execute_result",
          "data": {
            "text/plain": [
              "['aa1',\n",
              " 'ae1',\n",
              " 'ah0',\n",
              " 'ah1',\n",
              " 'ao1',\n",
              " 'aw1',\n",
              " 'ay1',\n",
              " 'b',\n",
              " 'ch',\n",
              " 'd',\n",
              " 'dh',\n",
              " 'eh1',\n",
              " 'ey1',\n",
              " 'f',\n",
              " 'g',\n",
              " 'hh',\n",
              " 'ih0',\n",
              " 'ih1',\n",
              " 'iy1',\n",
              " 'jh',\n",
              " 'k',\n",
              " 'l',\n",
              " 'm',\n",
              " 'n',\n",
              " 'ow0',\n",
              " 'p',\n",
              " 'r',\n",
              " 's',\n",
              " 't',\n",
              " 'th',\n",
              " 'uw1',\n",
              " 'v',\n",
              " 'w',\n",
              " 'y',\n",
              " 'z']"
            ]
          },
          "metadata": {},
          "execution_count": 85
        }
      ]
    },
    {
      "cell_type": "code",
      "source": [
        "# Create a confusion matrix\n",
        "conf_matrix = confusion_matrix(true_phonems_flat, predicted_phonems_flat, labels=unique_phonemes)\n",
        "\n",
        "# Convert to percentage confusion matrix\n",
        "conf_matrix_percent = conf_matrix.astype('float') / conf_matrix.sum(axis=1)[:, np.newaxis]\n",
        "\n",
        "# Plot the confusion matrix with borders\n",
        "plt.figure(figsize=(10, 10))\n",
        "sns.heatmap(conf_matrix_percent, annot=False, cmap=\"Blues\", xticklabels=unique_phonemes, yticklabels=unique_phonemes, cbar=False,\n",
        "            linewidths=0.5, linecolor='lightgray')  # Adjust linewidths and linecolor for better visibility\n",
        "plt.title('Phoneme-based Confusion Matrix')\n",
        "plt.xlabel('Predicted Phoneme')\n",
        "plt.ylabel('True Phoneme')\n",
        "\n",
        "# Save the confusion matrix as a PDF file\n",
        "plt.savefig('confusion_matrix.pdf', format='pdf')\n",
        "\n",
        "plt.show()"
      ],
      "metadata": {
        "id": "WEKZeXzDfbXT",
        "colab": {
          "base_uri": "https://localhost:8080/",
          "height": 887
        },
        "outputId": "54151735-a29a-44ff-f516-0a204a2ecd7a"
      },
      "id": "WEKZeXzDfbXT",
      "execution_count": null,
      "outputs": [
        {
          "output_type": "display_data",
          "data": {
            "text/plain": [
              "<Figure size 1000x1000 with 1 Axes>"
            ],
            "image/png": "[encoded data removed]"
          },
          "metadata": {}
        }
      ]
    },
    {
      "cell_type": "markdown",
      "source": [
        "## **Other**"
      ],
      "metadata": {
        "id": "Ef5gHM2IkPmh"
      },
      "id": "Ef5gHM2IkPmh"
    }
  ],
  "metadata": {
    "accelerator": "GPU",
    "colab": {
      "collapsed_sections": [
        "a3573a47-3689-4668-b62f-5c8451b2b4e9",
        "7a19e88e-c7b9-45c1-ae1e-f2109329c71b",
        "8f_bwWRMi3PY",
        "_2dRAujIjOi-",
        "gtwW7w6ikdGH",
        "c40a7eb4-0c3e-4eab-9291-5611cb68ce08",
        "-ZWaLCW2nFdr",
        "0f47733c-83bc-465c-b118-b198b492ad37",
        "2ec02176-5c26-46c3-aff7-8352e6563c7d",
        "fa8ee94b-89f7-4733-8a0c-a86f86ff590a",
        "64622f98-e99b-4fed-a2cc-f0da82eb5431",
        "B-RYGsi1s9s4",
        "Aw-4lr-Z2gez",
        "fbX9iOlZXYdN"
      ],
      "provenance": [],
      "gpuType": "T4"
    },
    "kernelspec": {
      "display_name": "Python 3",
      "name": "python3"
    },
    "language_info": {
      "codemirror_mode": {
        "name": "ipython",
        "version": 3
      },
      "file_extension": ".py",
      "mimetype": "text/x-python",
      "name": "python",
      "nbconvert_exporter": "python",
      "pygments_lexer": "ipython3",
      "version": "3.7.16"
    }
  },
  "nbformat": 4,
  "nbformat_minor": 5
}